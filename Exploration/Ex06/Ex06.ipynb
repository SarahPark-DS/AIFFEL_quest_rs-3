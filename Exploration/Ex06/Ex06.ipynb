{
 "cells": [
  {
   "cell_type": "code",
   "execution_count": 1,
   "id": "4e87a9f2",
   "metadata": {},
   "outputs": [
    {
     "name": "stderr",
     "output_type": "stream",
     "text": [
      "[nltk_data] Downloading package stopwords to /aiffel/nltk_data...\n",
      "[nltk_data]   Package stopwords is already up-to-date!\n"
     ]
    }
   ],
   "source": [
    "import nltk\n",
    "nltk.download('stopwords')\n",
    "\n",
    "import numpy as np\n",
    "import pandas as pd\n",
    "import os\n",
    "import re\n",
    "import matplotlib.pyplot as plt\n",
    "from nltk.corpus import stopwords\n",
    "from bs4 import BeautifulSoup \n",
    "import matplotlib.pyplot as plt\n",
    "from tensorflow.keras.preprocessing.text import Tokenizer \n",
    "from tensorflow.keras.preprocessing.sequence import pad_sequences\n",
    "import urllib.request\n",
    "import warnings\n",
    "warnings.filterwarnings(\"ignore\", category=UserWarning, module='bs4')"
   ]
  },
  {
   "cell_type": "code",
   "execution_count": 103,
   "id": "b74acddb",
   "metadata": {},
   "outputs": [],
   "source": [
    "# text 데이터 컬럼에 true인 사전 생성\n",
    "def make_choice_dic(data, columne_name):\n",
    "    choice_list = [False for i in range(len(columne_name))]\n",
    "    lenpriorlist = []\n",
    "    for name in columne_name:\n",
    "        lencolone = len(data[name][0])\n",
    "        lenpriorlist.append(lencolone)\n",
    "    true_index = lenpriorlist.index(max(lenpriorlist))\n",
    "    choice_list[true_index] = True\n",
    "    choice_dic = {name : value for name, value in zip(columne_name, choice_list)}\n",
    "    return choice_dic\n",
    "\n",
    "# 데이터 중복 제거 및 Null값 제거\n",
    "def cut_dup_null(data, columne_name, choice_dic):\n",
    "    print('전체 샘플수 :', len(data))\n",
    "    for name in columne_name:\n",
    "        if choice_dic[name]:\n",
    "            data.drop_duplicates(subset = name, inplace=True)\n",
    "        data.replace('', np.nan, inplace=True)\n",
    "        data.dropna(axis=0, inplace=True)\n",
    "    print('전처리 이후 샘플수 :', len(data))\n",
    "    return data\n",
    "\n",
    "# 불용어 삭제 및 텍스트 정규화\n",
    "def cut_stopword(data, columne_name, choice_dic, contractions):\n",
    "    def preprocess_sentence(sentence, remove_stopwords):\n",
    "        sentence = sentence.lower()\n",
    "        sentence = BeautifulSoup(sentence, \"lxml\").text\n",
    "        sentence = re.sub(r'\\([^)]*\\)', '', sentence)\n",
    "        sentence = re.sub('\"','', sentence)\n",
    "        sentence = ' '.join([contractions[t] if t in contractions else t for t in sentence.split(\" \")])\n",
    "        sentence = re.sub(r\"'s\\b\",\"\", sentence)\n",
    "        sentence = re.sub(\"[^a-zA-Z]\", \" \", sentence)\n",
    "        sentence = re.sub('[m]{2,}', 'mm', sentence)\n",
    "        \n",
    "        if remove_stopwords:\n",
    "            tokens = ' '.join(word for word in sentence.split() if not word in stopwords.words('english') if len(word) > 1)\n",
    "            \n",
    "        else:\n",
    "            tokens = ' '.join(word for word in sentence.split() if len(word) > 1)\n",
    "            \n",
    "        return tokens\n",
    "    \n",
    "    return_data = []\n",
    "    for name in columne_name:\n",
    "        return_col = []\n",
    "        for seq in data[name]:\n",
    "            tokens = preprocess_sentence(seq, choice_dic[name])\n",
    "            return_col.append(tokens)\n",
    "        return_data.append(return_col)\n",
    "        \n",
    "    for i, name in enumerate(columne_name):\n",
    "        data[name] = return_data[i]\n",
    "        \n",
    "    data.replace('', np.nan, inplace=True)\n",
    "    data.dropna(axis=0, inplace=True)\n",
    "        \n",
    "    return data\n",
    "\n",
    "# 샘플 길이 결정을 위한 시각화 함수\n",
    "def visual_len(data, columne_name, choice_dic):\n",
    "    for name in columne_name:\n",
    "        if choice_dic[name]:\n",
    "            text_len = [len(s.split()) for s in data[name]]\n",
    "        else:\n",
    "            summary_len = [len(s.split()) for s in data[name]]\n",
    "        \n",
    "    print('텍스트의 최소 길이 : {}'.format(np.min(text_len)))\n",
    "    print('텍스트의 최대 길이 : {}'.format(np.max(text_len)))\n",
    "    print('텍스트의 평균 길이 : {}'.format(np.mean(text_len)))\n",
    "    print('텍스트의 길이 분산 : {}'.format(np.var(text_len)))\n",
    "    print('요약의 최소 길이 : {}'.format(np.min(summary_len)))\n",
    "    print('요약의 최대 길이 : {}'.format(np.max(summary_len)))\n",
    "    print('요약의 평균 길이 : {}'.format(np.mean(summary_len)))\n",
    "    print('요약의 길이 분산 : {}'.format(np.var(summary_len)))\n",
    "    \n",
    "    plt.title('Text')\n",
    "    plt.hist(text_len, bins = 40)\n",
    "    plt.xlabel('length of samples')\n",
    "    plt.ylabel('number of samples')\n",
    "    plt.show()\n",
    "    \n",
    "    plt.title('Summary')\n",
    "    plt.hist(summary_len, bins = 40)\n",
    "    plt.xlabel('length of samples')\n",
    "    plt.ylabel('number of samples')\n",
    "    plt.show()\n",
    "\n",
    "def per_len(data, choice_dic, max_len, wich_data=True):\n",
    "    reverce_choice_dic = {v:k for k,v in choice_dic.items()}\n",
    "    target_col = reverce_choice_dic[wich_data]\n",
    "    \n",
    "    cnt = 0\n",
    "    \n",
    "    for seq in data[target_col]:\n",
    "        if (len(seq.split()) <= max_len):\n",
    "            cnt = cnt + 1\n",
    "    \n",
    "    print('전체 샘플 중 길이가 %s 이하인 샘플의 비율: %s'%(max_len, (cnt / len(data[target_col]))))\n",
    "    \n",
    "    return\n",
    "\n",
    "def cut_long(data, columne_name, choice_dic, max_len, sub_max_len):\n",
    "    return_list = []\n",
    "    \n",
    "    for name in columne_name:\n",
    "        return_col = []\n",
    "        cut_len = 0\n",
    "        if choice_dic[name]:\n",
    "            cut_len = max_len\n",
    "        else:\n",
    "            cut_len = sub_max_len\n",
    "        for seq in data[name]:\n",
    "            if len(seq.split()) > cut_len :\n",
    "                return_seq = ''\n",
    "            else :\n",
    "                return_seq = seq\n",
    "            return_col.append(return_seq)\n",
    "        return_list.append(return_col)\n",
    "        \n",
    "    for i, name in enumerate(columne_name):\n",
    "        data[name] = return_list[i]\n",
    "        \n",
    "    data.replace('', np.nan, inplace=True)\n",
    "    data.dropna(axis=0, inplace=True)\n",
    "    \n",
    "    print('길이 처리 이후 샘플 수 :', (len(data)))\n",
    "    \n",
    "    return data, max_len, sub_max_len\n",
    "\n",
    "\n",
    "def add_token_split(data, columne_name, choice_dic, spilt_rate = 0.2, surffle = True):\n",
    "    reverce_choice_dic = {v:k for k,v in choice_dic.items()}\n",
    "    text_col = reverce_choice_dic[False]\n",
    "    target_col = reverce_choice_dic[False]\n",
    "    \n",
    "    data['decoder_input'] = data[target_col].apply(lambda x : 'sostoken '+ x)\n",
    "    data['decoder_target'] = data[target_col].apply(lambda x : x + ' eostoken')\n",
    "    \n",
    "    encoder_input = np.array(data[text_col])\n",
    "    decoder_input = np.array(data['decoder_input'])\n",
    "    decoder_target = np.array(data['decoder_target'])\n",
    "    \n",
    "    if surffle == True :\n",
    "        indices = np.arange(encoder_input.shape[0])\n",
    "        np.random.shuffle(indices)\n",
    "        \n",
    "        encoder_input = encoder_input[indices]\n",
    "        decoder_input = decoder_input[indices]\n",
    "        decoder_target = decoder_target[indices]\n",
    "        \n",
    "    n_of_val = int(len(encoder_input)*spilt_rate)\n",
    "    \n",
    "    encoder_input_train = encoder_input[:-n_of_val]\n",
    "    decoder_input_train = decoder_input[:-n_of_val]\n",
    "    decoder_target_train = decoder_target[:-n_of_val]\n",
    "    \n",
    "    encoder_input_test = encoder_input[-n_of_val:]\n",
    "    decoder_input_test = decoder_input[-n_of_val:]\n",
    "    decoder_target_test = decoder_target[-n_of_val:]\n",
    "    \n",
    "    return encoder_input_train, decoder_input_train, decoder_target_train, encoder_input_test, decoder_input_test, decoder_target_test"
   ]
  },
  {
   "cell_type": "code",
   "execution_count": 231,
   "id": "54b23e19",
   "metadata": {},
   "outputs": [],
   "source": [
    "def check_voca_rate(encoder_input_train, decoder_input_train, e_word, d_word):\n",
    "    src_tokenizer = Tokenizer()\n",
    "    src_tokenizer.fit_on_texts(encoder_input_train)\n",
    "    \n",
    "    tar_tokenizer = Tokenizer()\n",
    "    tar_tokenizer.fit_on_texts(decoder_input_train)\n",
    "    \n",
    "    name_list = ['텍스트', '요약']\n",
    "    tokenizer_list = [src_tokenizer.word_index, tar_tokenizer.word_index]\n",
    "    word_num_list = [e_word, d_word]\n",
    "    tokenizer_word_list = [src_tokenizer.word_counts.items(), tar_tokenizer.word_counts.items()]\n",
    "    \n",
    "    for tok, num, name, toki in zip(tokenizer_list, word_num_list, name_list, tokenizer_word_list):\n",
    "        threshold = num\n",
    "        total_cnt = len(tok)\n",
    "        rare_cnt = 0\n",
    "        total_freq = 0\n",
    "        rare_freq = 0\n",
    "        \n",
    "        for key, value in toki:\n",
    "            total_freq = total_freq + value\n",
    "            if(value < threshold):\n",
    "                rare_cnt = rare_cnt + 1\n",
    "                rare_freq = rare_freq + value\n",
    "            \n",
    "        print(name + ' 단어 집합(vocabulary)의 크기 :', total_cnt)\n",
    "        print(name + ' 등장 빈도가 %s번 이하인 희귀 단어의 수: %s'%(threshold - 1, rare_cnt))\n",
    "        print(name + ' 단어 집합에서 희귀 단어를 제외시킬 경우의 단어 집합의 크기 %s'%(total_cnt - rare_cnt))\n",
    "        print(name + \" 단어 집합에서 희귀 단어의 비율:\", (rare_cnt / total_cnt)*100)\n",
    "        print(name + \" 전체 등장 빈도에서 희귀 단어 등장 빈도 비율:\", (rare_freq / total_freq)*100)\n",
    "\n",
    "        \n",
    "def encoding_voca(encoder_input_train, decoder_input_train, decoder_target_train, encoder_input_test, decoder_input_test, decoder_target_test, src_vocab, tar_vocab, max_len=max_len, sub_max_len=sub_max_len):\n",
    "    src_tokenizer = Tokenizer(num_words=src_vocab)\n",
    "    src_tokenizer.fit_on_texts(encoder_input_train)\n",
    "    \n",
    "    tar_tokenizer = Tokenizer(tar_vocab)\n",
    "    tar_tokenizer.fit_on_texts(decoder_input_train)\n",
    "    tar_tokenizer.fit_on_texts(decoder_target_train)\n",
    "    \n",
    "    encoder_input_train = src_tokenizer.texts_to_sequences(encoder_input_train) \n",
    "    encoder_input_test = src_tokenizer.texts_to_sequences(encoder_input_test)\n",
    "    decoder_input_train = tar_tokenizer.texts_to_sequences(decoder_input_train) \n",
    "    decoder_target_train = tar_tokenizer.texts_to_sequences(decoder_target_train)\n",
    "    decoder_input_test = tar_tokenizer.texts_to_sequences(decoder_input_test)\n",
    "    decoder_target_test = tar_tokenizer.texts_to_sequences(decoder_target_test)\n",
    "    \n",
    "    drop_train = [index for index, sentence in enumerate(decoder_input_train) if len(sentence) == 1]\n",
    "    drop_test = [index for index, sentence in enumerate(decoder_input_test) if len(sentence) == 1]\n",
    "    \n",
    "    encoder_input_train = [sentence for index, sentence in enumerate(encoder_input_train) if index not in drop_train]\n",
    "    decoder_input_train = [sentence for index, sentence in enumerate(decoder_input_train) if index not in drop_train]\n",
    "    decoder_target_train = [sentence for index, sentence in enumerate(decoder_target_train) if index not in drop_train]\n",
    "    \n",
    "    encoder_input_test = [sentence for index, sentence in enumerate(encoder_input_test) if index not in drop_test]\n",
    "    decoder_input_test = [sentence for index, sentence in enumerate(decoder_input_test) if index not in drop_test]\n",
    "    decoder_target_test = [sentence for index, sentence in enumerate(decoder_target_test) if index not in drop_test]\n",
    "    \n",
    "    print('훈련 데이터의 개수 :', len(encoder_input_train))\n",
    "    print('훈련 레이블의 개수 :', len(decoder_input_train))\n",
    "    print('테스트 데이터의 개수 :', len(encoder_input_test))\n",
    "    print('테스트 레이블의 개수 :', len(decoder_input_test))\n",
    "    \n",
    "    encoder_input_train = pad_sequences(encoder_input_train, maxlen=max_len, padding='pre')\n",
    "    encoder_input_test = pad_sequences(encoder_input_test, maxlen=max_len, padding='pre')\n",
    "    decoder_input_train = pad_sequences(decoder_input_train, maxlen=sub_max_len, padding='pre')\n",
    "    decoder_target_train = pad_sequences(decoder_target_train, maxlen=sub_max_len, padding='pre')\n",
    "    decoder_input_test = pad_sequences(decoder_input_test, maxlen=sub_max_len, padding='pre')\n",
    "    decoder_target_test = pad_sequences(decoder_target_test, maxlen=sub_max_len, padding='pre')\n",
    "    \n",
    "    return encoder_input_train, decoder_input_train, decoder_target_train, encoder_input_test, decoder_input_test, decoder_target_test, src_vocab, tar_vocab, src_tokenizer, tar_tokenizer\n",
    "\n",
    "\n",
    "def decode_sequence(encoder_model, decoder_model, input_seq, tar_tokenizer=tar_tokenizer):\n",
    "    tar_word_to_index = tar_tokenizer.word_index\n",
    "    \n",
    "    # 입력으로부터 인코더의 상태를 얻음\n",
    "    e_out, e_h, e_c = encoder_model.predict(input_seq)\n",
    "\n",
    "     # <SOS>에 해당하는 토큰 생성\n",
    "    target_seq = np.zeros((1,1))\n",
    "    target_seq[0, 0] = tar_word_to_index['sostoken']\n",
    "\n",
    "    stop_condition = False\n",
    "    decoded_sentence = ''\n",
    "    while not stop_condition: # stop_condition이 True가 될 때까지 루프 반복\n",
    "        \n",
    "        output_tokens, h, c = decoder_model.predict([target_seq] + [e_out, e_h, e_c])\n",
    "        sampled_token_index = np.argmax(output_tokens[0, -1, :])\n",
    "        sampled_token = tar_index_to_word[sampled_token_index]\n",
    "        \n",
    "        if (sampled_token!='eostoken'):\n",
    "            decoded_sentence += ' '+sampled_token\n",
    "            \n",
    "        #  <eos>에 도달하거나 최대 길이를 넘으면 중단.\n",
    "        if (sampled_token == 'eostoken'  or len(decoded_sentence.split()) >= (sub_max_len-1)):\n",
    "            stop_condition = True\n",
    "            \n",
    "        # 길이가 1인 타겟 시퀀스를 업데이트\n",
    "        target_seq = np.zeros((1,1))\n",
    "        target_seq[0, 0] = sampled_token_index\n",
    "        \n",
    "        # 상태를 업데이트 합니다.\n",
    "        e_h, e_c = h, c\n",
    "        \n",
    "    return decoded_sentence\n",
    "\n",
    "\n",
    "def seq2text(input_seq, src_tokenizer=src_tokenizer):\n",
    "    src_index_to_word = src_tokenizer.index_word\n",
    "    \n",
    "    temp=''\n",
    "    for i in input_seq:\n",
    "        if (i!=0):\n",
    "            temp = temp + src_index_to_word[i]+' '\n",
    "        return temp\n",
    "\n",
    "def seq2summary(input_seq, tar_tokenizer=tar_tokenizer):\n",
    "    tar_index_to_word = tar_tokenizer.index_word\n",
    "    temp=''\n",
    "    for i in input_seq:\n",
    "        if (i!=0):\n",
    "            temp = temp + tar_index_to_word[i]+' '\n",
    "        return temp"
   ]
  },
  {
   "cell_type": "markdown",
   "id": "332158bc",
   "metadata": {},
   "source": [
    "## 데이터 import 및 전처리"
   ]
  },
  {
   "cell_type": "markdown",
   "id": "e0d206ab",
   "metadata": {},
   "source": [
    "### 데이터 import"
   ]
  },
  {
   "cell_type": "code",
   "execution_count": 205,
   "id": "ac816dd8",
   "metadata": {},
   "outputs": [],
   "source": [
    "import urllib.request\n",
    "urllib.request.urlretrieve(\"https://raw.githubusercontent.com/sunnysai12345/News_Summary/master/news_summary_more.csv\", filename=\"news_summary_more.csv\")\n",
    "data0 = pd.read_csv('news_summary_more.csv', encoding='iso-8859-1')"
   ]
  },
  {
   "cell_type": "markdown",
   "id": "8326a875",
   "metadata": {},
   "source": [
    "### 불용어 및 정규화 사전 생성"
   ]
  },
  {
   "cell_type": "code",
   "execution_count": 28,
   "id": "53e38b83",
   "metadata": {
    "scrolled": true
   },
   "outputs": [
    {
     "name": "stdout",
     "output_type": "stream",
     "text": [
      "정규화 사전의 수:  120\n",
      "불용어 개수 : 179\n"
     ]
    }
   ],
   "source": [
    "contractions = {\"ain't\": \"is not\", \"aren't\": \"are not\",\"can't\": \"cannot\", \"'cause\": \"because\", \"could've\": \"could have\", \"couldn't\": \"could not\", \"didn't\": \"did not\",  \"doesn't\": \"does not\", \"don't\": \"do not\", \"hadn't\": \"had not\", \"hasn't\": \"has not\", \"haven't\": \"have not\", \"he'd\": \"he would\",\"he'll\": \"he will\", \"he's\": \"he is\", \"how'd\": \"how did\", \"how'd'y\": \"how do you\", \"how'll\": \"how will\", \"how's\": \"how is\", \"I'd\": \"I would\", \"I'd've\": \"I would have\", \"I'll\": \"I will\", \"I'll've\": \"I will have\",\"I'm\": \"I am\", \"I've\": \"I have\", \"i'd\": \"i would\", \"i'd've\": \"i would have\", \"i'll\": \"i will\",  \"i'll've\": \"i will have\",\"i'm\": \"i am\", \"i've\": \"i have\", \"isn't\": \"is not\", \"it'd\": \"it would\", \"it'd've\": \"it would have\", \"it'll\": \"it will\", \"it'll've\": \"it will have\",\"it's\": \"it is\", \"let's\": \"let us\", \"ma'am\": \"madam\", \"mayn't\": \"may not\", \"might've\": \"might have\",\"mightn't\": \"might not\",\"mightn't've\": \"might not have\", \"must've\": \"must have\", \"mustn't\": \"must not\", \"mustn't've\": \"must not have\", \"needn't\": \"need not\", \"needn't've\": \"need not have\",\"o'clock\": \"of the clock\", \"oughtn't\": \"ought not\", \"oughtn't've\": \"ought not have\", \"shan't\": \"shall not\", \"sha'n't\": \"shall not\", \"shan't've\": \"shall not have\", \"she'd\": \"she would\", \"she'd've\": \"she would have\", \"she'll\": \"she will\", \"she'll've\": \"she will have\", \"she's\": \"she is\", \"should've\": \"should have\", \"shouldn't\": \"should not\", \"shouldn't've\": \"should not have\", \"so've\": \"so have\",\"so's\": \"so as\", \"this's\": \"this is\",\"that'd\": \"that would\", \"that'd've\": \"that would have\", \"that's\": \"that is\", \"there'd\": \"there would\", \"there'd've\": \"there would have\", \"there's\": \"there is\", \"here's\": \"here is\",\"they'd\": \"they would\", \"they'd've\": \"they would have\", \"they'll\": \"they will\", \"they'll've\": \"they will have\", \"they're\": \"they are\", \"they've\": \"they have\", \"to've\": \"to have\", \"wasn't\": \"was not\", \"we'd\": \"we would\", \"we'd've\": \"we would have\", \"we'll\": \"we will\", \"we'll've\": \"we will have\", \"we're\": \"we are\", \"we've\": \"we have\", \"weren't\": \"were not\", \"what'll\": \"what will\", \"what'll've\": \"what will have\", \"what're\": \"what are\", \"what's\": \"what is\", \"what've\": \"what have\", \"when's\": \"when is\", \"when've\": \"when have\", \"where'd\": \"where did\", \"where's\": \"where is\", \"where've\": \"where have\", \"who'll\": \"who will\", \"who'll've\": \"who will have\", \"who's\": \"who is\", \"who've\": \"who have\", \"why's\": \"why is\", \"why've\": \"why have\", \"will've\": \"will have\", \"won't\": \"will not\", \"won't've\": \"will not have\", \"would've\": \"would have\", \"wouldn't\": \"would not\", \"wouldn't've\": \"would not have\", \"y'all\": \"you all\", \"y'all'd\": \"you all would\",\"y'all'd've\": \"you all would have\",\"y'all're\": \"you all are\",\"y'all've\": \"you all have\", \"you'd\": \"you would\", \"you'd've\": \"you would have\", \"you'll\": \"you will\", \"you'll've\": \"you will have\", \"you're\": \"you are\", \"you've\": \"you have\"}\n",
    "print(\"정규화 사전의 수: \", len(contractions))\n",
    "print('불용어 개수 :', len(stopwords.words('english') ))"
   ]
  },
  {
   "cell_type": "markdown",
   "id": "21b32c70",
   "metadata": {},
   "source": [
    "### 데이터 전처리(불용어, 정규화, 중복값, 결측값)"
   ]
  },
  {
   "cell_type": "code",
   "execution_count": 51,
   "id": "b03716bc",
   "metadata": {},
   "outputs": [
    {
     "name": "stdout",
     "output_type": "stream",
     "text": [
      "전체 샘플수 : 98360\n",
      "전처리 이후 샘플수 : 98360\n"
     ]
    }
   ],
   "source": [
    "columne_name = ['text', 'headlines']\n",
    "\n",
    "choice_dic = make_choice_dic(data0, columne_name)\n",
    "\n",
    "data1 = cut_dup_null(data0, columne_name, choice_dic)\n",
    "\n",
    "data2, data3 = cut_stopword(data1, columne_name, choice_dic, contractions)"
   ]
  },
  {
   "cell_type": "markdown",
   "id": "042859af",
   "metadata": {},
   "source": [
    "### 데이터 분할 및 텍스트 길이 설정"
   ]
  },
  {
   "cell_type": "markdown",
   "id": "baee7271",
   "metadata": {},
   "source": [
    "- 텍스트 길이를 설정하기 위해 분포 확인"
   ]
  },
  {
   "cell_type": "code",
   "execution_count": 72,
   "id": "d5a1c40e",
   "metadata": {},
   "outputs": [
    {
     "name": "stdout",
     "output_type": "stream",
     "text": [
      "텍스트의 최소 길이 : 1\n",
      "텍스트의 최대 길이 : 60\n",
      "텍스트의 평균 길이 : 35.09968483123221\n",
      "텍스트의 길이 분산 : 14.435335402905325\n",
      "요약의 최소 길이 : 1\n",
      "요약의 최대 길이 : 16\n",
      "요약의 평균 길이 : 9.299532330215534\n",
      "요약의 길이 분산 : 1.932362530369967\n"
     ]
    },
    {
     "data": {
      "image/png": "[encoded data removed]",
      "text/plain": [
       "<Figure size 432x288 with 1 Axes>"
      ]
     },
     "metadata": {
      "needs_background": "light"
     },
     "output_type": "display_data"
    },
    {
     "data": {
      "image/png": "[encoded data removed]",
      "text/plain": [
       "<Figure size 432x288 with 1 Axes>"
      ]
     },
     "metadata": {
      "needs_background": "light"
     },
     "output_type": "display_data"
    }
   ],
   "source": [
    "visual_len(data2, columne_name, choice_dic)"
   ]
  },
  {
   "cell_type": "code",
   "execution_count": 163,
   "id": "aa64b92c",
   "metadata": {},
   "outputs": [
    {
     "name": "stdout",
     "output_type": "stream",
     "text": [
      "전체 샘플 중 길이가 38 이하인 샘플의 비율: 1.0\n",
      "전체 샘플 중 길이가 10 이하인 샘플의 비율: 1.0\n"
     ]
    }
   ],
   "source": [
    "per_len(data2, choice_dic, 38, True)\n",
    "per_len(data2, choice_dic, 10, False)"
   ]
  },
  {
   "cell_type": "markdown",
   "id": "29b02419",
   "metadata": {},
   "source": [
    "- 위에서 확인한 분포 기반으로 길이 설정"
   ]
  },
  {
   "cell_type": "code",
   "execution_count": 206,
   "id": "30b62cdf",
   "metadata": {},
   "outputs": [
    {
     "name": "stdout",
     "output_type": "stream",
     "text": [
      "길이 처리 이후 샘플 수 : 65295\n"
     ]
    }
   ],
   "source": [
    "data4, max_len, sub_max_len = cut_long(data2, columne_name, choice_dic, 38, 10)"
   ]
  },
  {
   "cell_type": "markdown",
   "id": "8e58327f",
   "metadata": {},
   "source": [
    "- 데이터 분할 및 토큰화, 패딩"
   ]
  },
  {
   "cell_type": "code",
   "execution_count": 207,
   "id": "2ff428a3",
   "metadata": {},
   "outputs": [],
   "source": [
    "e_x_train, d_x_train, d_l_train, e_x_test, d_x_test, d_l_test = add_token_split(data4, columne_name, choice_dic, 0.2)"
   ]
  },
  {
   "cell_type": "markdown",
   "id": "fa5d4951",
   "metadata": {},
   "source": [
    "- 데이터 사전에 드문 데이터 제거"
   ]
  },
  {
   "cell_type": "code",
   "execution_count": 208,
   "id": "bccf463c",
   "metadata": {},
   "outputs": [
    {
     "name": "stdout",
     "output_type": "stream",
     "text": [
      "텍스트 단어 집합(vocabulary)의 크기 : 25804\n",
      "텍스트 등장 빈도가 6번 이하인 희귀 단어의 수: 18235\n",
      "텍스트 단어 집합에서 희귀 단어를 제외시킬 경우의 단어 집합의 크기 7569\n",
      "텍스트 단어 집합에서 희귀 단어의 비율: 70.66733839714773\n",
      "텍스트 전체 등장 빈도에서 희귀 단어 등장 빈도 비율: 8.295473520539716\n",
      "요약 단어 집합(vocabulary)의 크기 : 25805\n",
      "요약 등장 빈도가 4번 이하인 희귀 단어의 수: 16383\n",
      "요약 단어 집합에서 희귀 단어를 제외시킬 경우의 단어 집합의 크기 9422\n",
      "요약 단어 집합에서 희귀 단어의 비율: 63.48769618291029\n",
      "요약 전체 등장 빈도에서 희귀 단어 등장 빈도 비율: 5.488276418234908\n"
     ]
    }
   ],
   "source": [
    "check_voca_rate(e_x_train, d_x_train, 7, 5)"
   ]
  },
  {
   "cell_type": "code",
   "execution_count": 209,
   "id": "db029a37",
   "metadata": {},
   "outputs": [
    {
     "name": "stdout",
     "output_type": "stream",
     "text": [
      "훈련 데이터의 개수 : 52235\n",
      "훈련 레이블의 개수 : 52235\n",
      "테스트 데이터의 개수 : 13059\n",
      "테스트 레이블의 개수 : 13059\n"
     ]
    }
   ],
   "source": [
    "e_x_train, d_x_train, d_l_train, e_x_test, d_x_test, d_l_test, src_vocab, tar_vocab, src_tokenizer, tar_tokenizer = encoding_voca(e_x_train, d_x_train, d_l_train, e_x_test, d_x_test, d_l_test, 8000, 4000)"
   ]
  },
  {
   "attachments": {
    "image-2.png": {
     "image/png": "[encoded data removed]"
    },
    "image-3.png": {
     "image/png": "[encoded data removed]"
    },
    "image.png": {
     "image/png": "[encoded data removed]"
    }
   },
   "cell_type": "markdown",
   "id": "75d785d6",
   "metadata": {},
   "source": [
    "![image.png](attachment:image.png)\n",
    "![image-2.png](attachment:image-2.png)\n",
    "- 변수명으로 인하여 지속적으로 오류가 있었음\n",
    "\n",
    "![image-3.png](attachment:image-3.png)\n",
    "(정상 결과)\n",
    "\n",
    "\n",
    "- 변수를 리스트로 함축하여 함수에 넣을 수 있다면 수정이 더 편이할 것"
   ]
  },
  {
   "cell_type": "markdown",
   "id": "8c8281ce",
   "metadata": {},
   "source": [
    "## 모델 구축 및 모델 학습"
   ]
  },
  {
   "cell_type": "code",
   "execution_count": 210,
   "id": "0820009f",
   "metadata": {},
   "outputs": [],
   "source": [
    "from tensorflow.keras.layers import Input, LSTM, Embedding, Dense, Concatenate, TimeDistributed\n",
    "from tensorflow.keras.models import Model\n",
    "from tensorflow.keras.callbacks import EarlyStopping, ModelCheckpoint\n",
    "from tensorflow.keras.layers import AdditiveAttention"
   ]
  },
  {
   "cell_type": "markdown",
   "id": "4e5cbe6b",
   "metadata": {},
   "source": [
    "### 모델 구축\n",
    "\n",
    "- 3층 구조 인코더 구조 구축\n",
    "    - src_voca 및 max_len 값은 위에서 전처리 과정중 모두 저장해 둘 수 있게 해두었음\n",
    "    \n",
    "- 단일층 디코더 구조 구축\n",
    "    - tar_vocab도 위 내용과 동일 준비하였음\n",
    "\n",
    "- 어텐션 층 구축"
   ]
  },
  {
   "cell_type": "code",
   "execution_count": 211,
   "id": "62bd151e",
   "metadata": {},
   "outputs": [],
   "source": [
    "embedding_dim = 128\n",
    "hidden_size = 256\n",
    "\n",
    "# 인코더\n",
    "encoder_inputs = Input(shape=(max_len,))\n",
    "enc_emb = Embedding(src_vocab, embedding_dim)(encoder_inputs)\n",
    "\n",
    "encoder_lstm1 = LSTM(hidden_size, return_sequences=True, return_state=True ,dropout = 0.4)\n",
    "encoder_output1, state_h1, state_c1 = encoder_lstm1(enc_emb)\n",
    "\n",
    "encoder_lstm2 = LSTM(hidden_size, return_sequences=True, return_state=True ,dropout = 0.4)\n",
    "encoder_output2, state_h2, state_c2 = encoder_lstm2(encoder_output1)\n",
    "\n",
    "encoder_lstm3 = LSTM(hidden_size, return_sequences=True, return_state=True ,dropout = 0.4)\n",
    "encoder_outputs, state_h, state_c = encoder_lstm3(encoder_output2)"
   ]
  },
  {
   "cell_type": "code",
   "execution_count": 212,
   "id": "61fe6248",
   "metadata": {},
   "outputs": [],
   "source": [
    "# 디코더\n",
    "decoder_inputs = Input(shape=(None,))\n",
    "\n",
    "dec_emb_layer = Embedding(tar_vocab, embedding_dim)\n",
    "dec_emb = dec_emb_layer(decoder_inputs)\n",
    "\n",
    "decoder_lstm = LSTM(hidden_size, return_sequences=True, return_state=True, dropout=0.4)\n",
    "decoder_outputs, _, _ = decoder_lstm(dec_emb, initial_state=[state_h, state_c])"
   ]
  },
  {
   "cell_type": "code",
   "execution_count": 213,
   "id": "9999b709",
   "metadata": {},
   "outputs": [],
   "source": [
    "# 어텐션 층\n",
    "attn_layer = AdditiveAttention(name='attention_layer')\n",
    "\n",
    "attn_out = attn_layer([decoder_outputs, encoder_outputs])\n",
    "\n",
    "decoder_concat_input = Concatenate(axis=-1, name='concat_layer')([decoder_outputs, attn_out])"
   ]
  },
  {
   "cell_type": "code",
   "execution_count": 214,
   "id": "514741d1",
   "metadata": {},
   "outputs": [
    {
     "name": "stdout",
     "output_type": "stream",
     "text": [
      "Model: \"model_8\"\n",
      "__________________________________________________________________________________________________\n",
      "Layer (type)                    Output Shape         Param #     Connected to                     \n",
      "==================================================================================================\n",
      "input_14 (InputLayer)           [(None, 38)]         0                                            \n",
      "__________________________________________________________________________________________________\n",
      "embedding_4 (Embedding)         (None, 38, 128)      1024000     input_14[0][0]                   \n",
      "__________________________________________________________________________________________________\n",
      "lstm_8 (LSTM)                   [(None, 38, 256), (N 394240      embedding_4[0][0]                \n",
      "__________________________________________________________________________________________________\n",
      "input_15 (InputLayer)           [(None, None)]       0                                            \n",
      "__________________________________________________________________________________________________\n",
      "lstm_9 (LSTM)                   [(None, 38, 256), (N 525312      lstm_8[0][0]                     \n",
      "__________________________________________________________________________________________________\n",
      "embedding_5 (Embedding)         (None, None, 128)    512000      input_15[0][0]                   \n",
      "__________________________________________________________________________________________________\n",
      "lstm_10 (LSTM)                  [(None, 38, 256), (N 525312      lstm_9[0][0]                     \n",
      "__________________________________________________________________________________________________\n",
      "lstm_11 (LSTM)                  [(None, None, 256),  394240      embedding_5[0][0]                \n",
      "                                                                 lstm_10[0][1]                    \n",
      "                                                                 lstm_10[0][2]                    \n",
      "__________________________________________________________________________________________________\n",
      "dense_2 (Dense)                 (None, None, 4000)   1028000     lstm_11[0][0]                    \n",
      "==================================================================================================\n",
      "Total params: 4,403,104\n",
      "Trainable params: 4,403,104\n",
      "Non-trainable params: 0\n",
      "__________________________________________________________________________________________________\n"
     ]
    }
   ],
   "source": [
    "# 디코더 출력층\n",
    "decoder_softmax_layer = Dense(tar_vocab, activation='softmax')\n",
    "decoder_softmax_outputs = decoder_softmax_layer(decoder_outputs) \n",
    "\n",
    "# 모델 정의\n",
    "model = Model([encoder_inputs, decoder_inputs], decoder_softmax_outputs)\n",
    "model.summary()"
   ]
  },
  {
   "cell_type": "markdown",
   "id": "c155ce12",
   "metadata": {},
   "source": [
    "### 모델 학습"
   ]
  },
  {
   "cell_type": "code",
   "execution_count": 215,
   "id": "52b8c024",
   "metadata": {},
   "outputs": [
    {
     "name": "stdout",
     "output_type": "stream",
     "text": [
      "Epoch 1/30\n",
      "205/205 [==============================] - 16s 55ms/step - loss: 5.3770 - val_loss: 5.1203\n",
      "Epoch 2/30\n",
      "205/205 [==============================] - 10s 50ms/step - loss: 5.0336 - val_loss: 4.9224\n",
      "Epoch 3/30\n",
      "205/205 [==============================] - 10s 51ms/step - loss: 4.9474 - val_loss: 4.8555\n",
      "Epoch 4/30\n",
      "205/205 [==============================] - 11s 51ms/step - loss: 4.8723 - val_loss: 4.7896\n",
      "Epoch 5/30\n",
      "205/205 [==============================] - 10s 51ms/step - loss: 4.7871 - val_loss: 4.7125\n",
      "Epoch 6/30\n",
      "205/205 [==============================] - 10s 51ms/step - loss: 4.6974 - val_loss: 4.6403\n",
      "Epoch 7/30\n",
      "205/205 [==============================] - 10s 50ms/step - loss: 4.6119 - val_loss: 4.5775\n",
      "Epoch 8/30\n",
      "205/205 [==============================] - 10s 50ms/step - loss: 4.5316 - val_loss: 4.6021\n",
      "Epoch 9/30\n",
      "205/205 [==============================] - 10s 50ms/step - loss: 4.4630 - val_loss: 4.4667\n",
      "Epoch 10/30\n",
      "205/205 [==============================] - 10s 50ms/step - loss: 4.3954 - val_loss: 4.4266\n",
      "Epoch 11/30\n",
      "205/205 [==============================] - 10s 51ms/step - loss: 4.3357 - val_loss: 4.4004\n",
      "Epoch 12/30\n",
      "205/205 [==============================] - 10s 51ms/step - loss: 4.2811 - val_loss: 4.3762\n",
      "Epoch 13/30\n",
      "205/205 [==============================] - 10s 50ms/step - loss: 4.2313 - val_loss: 4.3283\n",
      "Epoch 14/30\n",
      "205/205 [==============================] - 10s 50ms/step - loss: 4.1846 - val_loss: 4.2993\n",
      "Epoch 15/30\n",
      "205/205 [==============================] - 10s 50ms/step - loss: 4.1417 - val_loss: 4.2845\n",
      "Epoch 16/30\n",
      "205/205 [==============================] - 10s 50ms/step - loss: 4.1013 - val_loss: 4.2632\n",
      "Epoch 17/30\n",
      "205/205 [==============================] - 10s 50ms/step - loss: 4.0648 - val_loss: 4.2687\n",
      "Epoch 18/30\n",
      "205/205 [==============================] - 10s 50ms/step - loss: 4.0300 - val_loss: 4.2380\n",
      "Epoch 19/30\n",
      "205/205 [==============================] - 10s 50ms/step - loss: 3.9980 - val_loss: 4.2274\n",
      "Epoch 20/30\n",
      "205/205 [==============================] - 10s 50ms/step - loss: 3.9752 - val_loss: 4.2253\n",
      "Epoch 21/30\n",
      "205/205 [==============================] - 10s 51ms/step - loss: 3.9396 - val_loss: 4.2137\n",
      "Epoch 22/30\n",
      "205/205 [==============================] - 10s 51ms/step - loss: 3.9126 - val_loss: 4.2015\n",
      "Epoch 23/30\n",
      "205/205 [==============================] - 10s 51ms/step - loss: 3.8838 - val_loss: 4.1777\n",
      "Epoch 24/30\n",
      "205/205 [==============================] - 10s 50ms/step - loss: 3.8237 - val_loss: 4.1433\n",
      "Epoch 25/30\n",
      "205/205 [==============================] - 10s 51ms/step - loss: 3.7646 - val_loss: 4.1394\n",
      "Epoch 26/30\n",
      "205/205 [==============================] - 10s 51ms/step - loss: 3.7052 - val_loss: 4.0476\n",
      "Epoch 27/30\n",
      "205/205 [==============================] - 10s 51ms/step - loss: 3.6452 - val_loss: 3.9973\n",
      "Epoch 28/30\n",
      "205/205 [==============================] - 10s 50ms/step - loss: 3.5852 - val_loss: 3.9460\n",
      "Epoch 29/30\n",
      "205/205 [==============================] - 10s 50ms/step - loss: 3.5250 - val_loss: 3.9018\n",
      "Epoch 30/30\n",
      "205/205 [==============================] - 10s 51ms/step - loss: 3.4573 - val_loss: 3.8465\n"
     ]
    }
   ],
   "source": [
    "model.compile(optimizer='rmsprop', loss='sparse_categorical_crossentropy')\n",
    "es = EarlyStopping(monitor='val_loss', patience=2, verbose=1)\n",
    "history = model.fit(x=[e_x_train, d_x_train], y=d_l_train, \\\n",
    "          validation_data=([e_x_test, d_x_test], d_l_test), \\\n",
    "          batch_size=256, epochs=30)"
   ]
  },
  {
   "cell_type": "markdown",
   "id": "b68bd9f8",
   "metadata": {},
   "source": [
    "- 결과 확인"
   ]
  },
  {
   "cell_type": "code",
   "execution_count": 217,
   "id": "c01461cc",
   "metadata": {},
   "outputs": [
    {
     "data": {
      "image/png": "[encoded data removed]",
      "text/plain": [
       "<Figure size 432x288 with 1 Axes>"
      ]
     },
     "metadata": {
      "needs_background": "light"
     },
     "output_type": "display_data"
    }
   ],
   "source": [
    "plt.plot(history.history['loss'], label='train')\n",
    "plt.plot(history.history['val_loss'], label='test')\n",
    "plt.legend()\n",
    "plt.show()"
   ]
  },
  {
   "cell_type": "markdown",
   "id": "adb4f02a",
   "metadata": {},
   "source": [
    "## 추론 모델 제작"
   ]
  },
  {
   "cell_type": "markdown",
   "id": "eb765abf",
   "metadata": {},
   "source": [
    "### 모델 구축"
   ]
  },
  {
   "cell_type": "code",
   "execution_count": 218,
   "id": "02c79dfb",
   "metadata": {},
   "outputs": [],
   "source": [
    "# 인코더\n",
    "encoder_model = Model(inputs=encoder_inputs, outputs=[encoder_outputs, state_h, state_c])"
   ]
  },
  {
   "cell_type": "code",
   "execution_count": 219,
   "id": "c7467647",
   "metadata": {},
   "outputs": [],
   "source": [
    "# 디코더\n",
    "# 이전 시점의 상태들을 저장하는 텐서\n",
    "decoder_state_input_h = Input(shape=(hidden_size,))\n",
    "decoder_state_input_c = Input(shape=(hidden_size,))\n",
    "\n",
    "# 디코더 층 (출력 문장에 길이에 따른 반복 구조를 위함)\n",
    "dec_emb2 = dec_emb_layer(decoder_inputs)\n",
    "decoder_outputs2, state_h2, state_c2 = decoder_lstm(dec_emb2, initial_state=[decoder_state_input_h, decoder_state_input_c])"
   ]
  },
  {
   "cell_type": "code",
   "execution_count": 220,
   "id": "f1250947",
   "metadata": {},
   "outputs": [],
   "source": [
    "# 어텐션 층\n",
    "decoder_hidden_state_input = Input(shape=(max_len, hidden_size))\n",
    "attn_out_inf = attn_layer([decoder_outputs2, decoder_hidden_state_input])\n",
    "decoder_inf_concat = Concatenate(axis=-1, name='concat')([decoder_outputs2, attn_out_inf])"
   ]
  },
  {
   "cell_type": "code",
   "execution_count": 233,
   "id": "c043e870",
   "metadata": {},
   "outputs": [],
   "source": [
    "# 디코더 출력\n",
    "decoder_outputs2 = decoder_softmax_layer(decoder_inf_concat)\n",
    "\n",
    "# 모델 정의\n",
    "decoder_model = Model(\n",
    "    [decoder_inputs] + [decoder_hidden_state_input,decoder_state_input_h, decoder_state_input_c],\n",
    "    [decoder_outputs2] + [state_h2, state_c2])"
   ]
  },
  {
   "cell_type": "markdown",
   "id": "cf24072c",
   "metadata": {},
   "source": [
    "### 추론 모델 구동"
   ]
  },
  {
   "cell_type": "code",
   "execution_count": 234,
   "id": "7302937a",
   "metadata": {},
   "outputs": [
    {
     "name": "stdout",
     "output_type": "stream",
     "text": [
      "원문 : \n",
      "실제 요약 : \n"
     ]
    },
    {
     "ename": "ValueError",
     "evalue": "in user code:\n\n    /opt/conda/lib/python3.9/site-packages/keras/engine/training.py:1586 predict_function  *\n        return step_function(self, iterator)\n    /opt/conda/lib/python3.9/site-packages/keras/engine/training.py:1576 step_function  **\n        outputs = model.distribute_strategy.run(run_step, args=(data,))\n    /opt/conda/lib/python3.9/site-packages/tensorflow/python/distribute/distribute_lib.py:1286 run\n        return self._extended.call_for_each_replica(fn, args=args, kwargs=kwargs)\n    /opt/conda/lib/python3.9/site-packages/tensorflow/python/distribute/distribute_lib.py:2849 call_for_each_replica\n        return self._call_for_each_replica(fn, args, kwargs)\n    /opt/conda/lib/python3.9/site-packages/tensorflow/python/distribute/distribute_lib.py:3632 _call_for_each_replica\n        return fn(*args, **kwargs)\n    /opt/conda/lib/python3.9/site-packages/keras/engine/training.py:1569 run_step  **\n        outputs = model.predict_step(data)\n    /opt/conda/lib/python3.9/site-packages/keras/engine/training.py:1537 predict_step\n        return self(x, training=False)\n    /opt/conda/lib/python3.9/site-packages/keras/engine/base_layer.py:1037 __call__\n        outputs = call_fn(inputs, *args, **kwargs)\n    /opt/conda/lib/python3.9/site-packages/keras/engine/functional.py:414 call\n        return self._run_internal_graph(\n    /opt/conda/lib/python3.9/site-packages/keras/engine/functional.py:550 _run_internal_graph\n        outputs = node.layer(*args, **kwargs)\n    /opt/conda/lib/python3.9/site-packages/keras/engine/base_layer.py:1020 __call__\n        input_spec.assert_input_compatibility(self.input_spec, inputs, self.name)\n    /opt/conda/lib/python3.9/site-packages/keras/engine/input_spec.py:250 assert_input_compatibility\n        raise ValueError(\n\n    ValueError: Input 0 of layer dense_2 is incompatible with the layer: expected axis -1 of input shape to have value 256 but received input with shape (None, 1, 512)\n",
     "output_type": "error",
     "traceback": [
      "\u001b[0;31m---------------------------------------------------------------------------\u001b[0m",
      "\u001b[0;31mValueError\u001b[0m                                Traceback (most recent call last)",
      "\u001b[0;32m/tmp/ipykernel_93/1882194121.py\u001b[0m in \u001b[0;36m<module>\u001b[0;34m\u001b[0m\n\u001b[1;32m      2\u001b[0m     \u001b[0mprint\u001b[0m\u001b[0;34m(\u001b[0m\u001b[0;34m\"원문 :\"\u001b[0m\u001b[0;34m,\u001b[0m \u001b[0mseq2text\u001b[0m\u001b[0;34m(\u001b[0m\u001b[0me_x_test\u001b[0m\u001b[0;34m[\u001b[0m\u001b[0mi\u001b[0m\u001b[0;34m]\u001b[0m\u001b[0;34m)\u001b[0m\u001b[0;34m)\u001b[0m\u001b[0;34m\u001b[0m\u001b[0;34m\u001b[0m\u001b[0m\n\u001b[1;32m      3\u001b[0m     \u001b[0mprint\u001b[0m\u001b[0;34m(\u001b[0m\u001b[0;34m\"실제 요약 :\"\u001b[0m\u001b[0;34m,\u001b[0m \u001b[0mseq2summary\u001b[0m\u001b[0;34m(\u001b[0m\u001b[0md_x_test\u001b[0m\u001b[0;34m[\u001b[0m\u001b[0mi\u001b[0m\u001b[0;34m]\u001b[0m\u001b[0;34m)\u001b[0m\u001b[0;34m)\u001b[0m\u001b[0;34m\u001b[0m\u001b[0;34m\u001b[0m\u001b[0m\n\u001b[0;32m----> 4\u001b[0;31m     \u001b[0mprint\u001b[0m\u001b[0;34m(\u001b[0m\u001b[0;34m\"예측 요약 :\"\u001b[0m\u001b[0;34m,\u001b[0m \u001b[0mdecode_sequence\u001b[0m\u001b[0;34m(\u001b[0m\u001b[0mencoder_model\u001b[0m\u001b[0;34m,\u001b[0m \u001b[0mdecoder_model\u001b[0m\u001b[0;34m,\u001b[0m \u001b[0me_x_test\u001b[0m\u001b[0;34m[\u001b[0m\u001b[0mi\u001b[0m\u001b[0;34m]\u001b[0m\u001b[0;34m.\u001b[0m\u001b[0mreshape\u001b[0m\u001b[0;34m(\u001b[0m\u001b[0;36m1\u001b[0m\u001b[0;34m,\u001b[0m \u001b[0mmax_len\u001b[0m\u001b[0;34m)\u001b[0m\u001b[0;34m)\u001b[0m\u001b[0;34m)\u001b[0m\u001b[0;34m\u001b[0m\u001b[0;34m\u001b[0m\u001b[0m\n\u001b[0m\u001b[1;32m      5\u001b[0m     \u001b[0mprint\u001b[0m\u001b[0;34m(\u001b[0m\u001b[0;34m\"\\n\"\u001b[0m\u001b[0;34m)\u001b[0m\u001b[0;34m\u001b[0m\u001b[0;34m\u001b[0m\u001b[0m\n",
      "\u001b[0;32m/tmp/ipykernel_93/1338846019.py\u001b[0m in \u001b[0;36mdecode_sequence\u001b[0;34m(encoder_model, decoder_model, input_seq, tar_tokenizer)\u001b[0m\n\u001b[1;32m     86\u001b[0m     \u001b[0;32mwhile\u001b[0m \u001b[0;32mnot\u001b[0m \u001b[0mstop_condition\u001b[0m\u001b[0;34m:\u001b[0m \u001b[0;31m# stop_condition이 True가 될 때까지 루프 반복\u001b[0m\u001b[0;34m\u001b[0m\u001b[0;34m\u001b[0m\u001b[0m\n\u001b[1;32m     87\u001b[0m \u001b[0;34m\u001b[0m\u001b[0m\n\u001b[0;32m---> 88\u001b[0;31m         \u001b[0moutput_tokens\u001b[0m\u001b[0;34m,\u001b[0m \u001b[0mh\u001b[0m\u001b[0;34m,\u001b[0m \u001b[0mc\u001b[0m \u001b[0;34m=\u001b[0m \u001b[0mdecoder_model\u001b[0m\u001b[0;34m.\u001b[0m\u001b[0mpredict\u001b[0m\u001b[0;34m(\u001b[0m\u001b[0;34m[\u001b[0m\u001b[0mtarget_seq\u001b[0m\u001b[0;34m]\u001b[0m \u001b[0;34m+\u001b[0m \u001b[0;34m[\u001b[0m\u001b[0me_out\u001b[0m\u001b[0;34m,\u001b[0m \u001b[0me_h\u001b[0m\u001b[0;34m,\u001b[0m \u001b[0me_c\u001b[0m\u001b[0;34m]\u001b[0m\u001b[0;34m)\u001b[0m\u001b[0;34m\u001b[0m\u001b[0;34m\u001b[0m\u001b[0m\n\u001b[0m\u001b[1;32m     89\u001b[0m         \u001b[0msampled_token_index\u001b[0m \u001b[0;34m=\u001b[0m \u001b[0mnp\u001b[0m\u001b[0;34m.\u001b[0m\u001b[0margmax\u001b[0m\u001b[0;34m(\u001b[0m\u001b[0moutput_tokens\u001b[0m\u001b[0;34m[\u001b[0m\u001b[0;36m0\u001b[0m\u001b[0;34m,\u001b[0m \u001b[0;34m-\u001b[0m\u001b[0;36m1\u001b[0m\u001b[0;34m,\u001b[0m \u001b[0;34m:\u001b[0m\u001b[0;34m]\u001b[0m\u001b[0;34m)\u001b[0m\u001b[0;34m\u001b[0m\u001b[0;34m\u001b[0m\u001b[0m\n\u001b[1;32m     90\u001b[0m         \u001b[0msampled_token\u001b[0m \u001b[0;34m=\u001b[0m \u001b[0mtar_index_to_word\u001b[0m\u001b[0;34m[\u001b[0m\u001b[0msampled_token_index\u001b[0m\u001b[0;34m]\u001b[0m\u001b[0;34m\u001b[0m\u001b[0;34m\u001b[0m\u001b[0m\n",
      "\u001b[0;32m/opt/conda/lib/python3.9/site-packages/keras/engine/training.py\u001b[0m in \u001b[0;36mpredict\u001b[0;34m(self, x, batch_size, verbose, steps, callbacks, max_queue_size, workers, use_multiprocessing)\u001b[0m\n\u001b[1;32m   1749\u001b[0m           \u001b[0;32mfor\u001b[0m \u001b[0mstep\u001b[0m \u001b[0;32min\u001b[0m \u001b[0mdata_handler\u001b[0m\u001b[0;34m.\u001b[0m\u001b[0msteps\u001b[0m\u001b[0;34m(\u001b[0m\u001b[0;34m)\u001b[0m\u001b[0;34m:\u001b[0m\u001b[0;34m\u001b[0m\u001b[0;34m\u001b[0m\u001b[0m\n\u001b[1;32m   1750\u001b[0m             \u001b[0mcallbacks\u001b[0m\u001b[0;34m.\u001b[0m\u001b[0mon_predict_batch_begin\u001b[0m\u001b[0;34m(\u001b[0m\u001b[0mstep\u001b[0m\u001b[0;34m)\u001b[0m\u001b[0;34m\u001b[0m\u001b[0;34m\u001b[0m\u001b[0m\n\u001b[0;32m-> 1751\u001b[0;31m             \u001b[0mtmp_batch_outputs\u001b[0m \u001b[0;34m=\u001b[0m \u001b[0mself\u001b[0m\u001b[0;34m.\u001b[0m\u001b[0mpredict_function\u001b[0m\u001b[0;34m(\u001b[0m\u001b[0miterator\u001b[0m\u001b[0;34m)\u001b[0m\u001b[0;34m\u001b[0m\u001b[0;34m\u001b[0m\u001b[0m\n\u001b[0m\u001b[1;32m   1752\u001b[0m             \u001b[0;32mif\u001b[0m \u001b[0mdata_handler\u001b[0m\u001b[0;34m.\u001b[0m\u001b[0mshould_sync\u001b[0m\u001b[0;34m:\u001b[0m\u001b[0;34m\u001b[0m\u001b[0;34m\u001b[0m\u001b[0m\n\u001b[1;32m   1753\u001b[0m               \u001b[0mcontext\u001b[0m\u001b[0;34m.\u001b[0m\u001b[0masync_wait\u001b[0m\u001b[0;34m(\u001b[0m\u001b[0;34m)\u001b[0m\u001b[0;34m\u001b[0m\u001b[0;34m\u001b[0m\u001b[0m\n",
      "\u001b[0;32m/opt/conda/lib/python3.9/site-packages/tensorflow/python/eager/def_function.py\u001b[0m in \u001b[0;36m__call__\u001b[0;34m(self, *args, **kwds)\u001b[0m\n\u001b[1;32m    883\u001b[0m \u001b[0;34m\u001b[0m\u001b[0m\n\u001b[1;32m    884\u001b[0m       \u001b[0;32mwith\u001b[0m \u001b[0mOptionalXlaContext\u001b[0m\u001b[0;34m(\u001b[0m\u001b[0mself\u001b[0m\u001b[0;34m.\u001b[0m\u001b[0m_jit_compile\u001b[0m\u001b[0;34m)\u001b[0m\u001b[0;34m:\u001b[0m\u001b[0;34m\u001b[0m\u001b[0;34m\u001b[0m\u001b[0m\n\u001b[0;32m--> 885\u001b[0;31m         \u001b[0mresult\u001b[0m \u001b[0;34m=\u001b[0m \u001b[0mself\u001b[0m\u001b[0;34m.\u001b[0m\u001b[0m_call\u001b[0m\u001b[0;34m(\u001b[0m\u001b[0;34m*\u001b[0m\u001b[0margs\u001b[0m\u001b[0;34m,\u001b[0m \u001b[0;34m**\u001b[0m\u001b[0mkwds\u001b[0m\u001b[0;34m)\u001b[0m\u001b[0;34m\u001b[0m\u001b[0;34m\u001b[0m\u001b[0m\n\u001b[0m\u001b[1;32m    886\u001b[0m \u001b[0;34m\u001b[0m\u001b[0m\n\u001b[1;32m    887\u001b[0m       \u001b[0mnew_tracing_count\u001b[0m \u001b[0;34m=\u001b[0m \u001b[0mself\u001b[0m\u001b[0;34m.\u001b[0m\u001b[0mexperimental_get_tracing_count\u001b[0m\u001b[0;34m(\u001b[0m\u001b[0;34m)\u001b[0m\u001b[0;34m\u001b[0m\u001b[0;34m\u001b[0m\u001b[0m\n",
      "\u001b[0;32m/opt/conda/lib/python3.9/site-packages/tensorflow/python/eager/def_function.py\u001b[0m in \u001b[0;36m_call\u001b[0;34m(self, *args, **kwds)\u001b[0m\n\u001b[1;32m    931\u001b[0m       \u001b[0;31m# This is the first call of __call__, so we have to initialize.\u001b[0m\u001b[0;34m\u001b[0m\u001b[0;34m\u001b[0m\u001b[0m\n\u001b[1;32m    932\u001b[0m       \u001b[0minitializers\u001b[0m \u001b[0;34m=\u001b[0m \u001b[0;34m[\u001b[0m\u001b[0;34m]\u001b[0m\u001b[0;34m\u001b[0m\u001b[0;34m\u001b[0m\u001b[0m\n\u001b[0;32m--> 933\u001b[0;31m       \u001b[0mself\u001b[0m\u001b[0;34m.\u001b[0m\u001b[0m_initialize\u001b[0m\u001b[0;34m(\u001b[0m\u001b[0margs\u001b[0m\u001b[0;34m,\u001b[0m \u001b[0mkwds\u001b[0m\u001b[0;34m,\u001b[0m \u001b[0madd_initializers_to\u001b[0m\u001b[0;34m=\u001b[0m\u001b[0minitializers\u001b[0m\u001b[0;34m)\u001b[0m\u001b[0;34m\u001b[0m\u001b[0;34m\u001b[0m\u001b[0m\n\u001b[0m\u001b[1;32m    934\u001b[0m     \u001b[0;32mfinally\u001b[0m\u001b[0;34m:\u001b[0m\u001b[0;34m\u001b[0m\u001b[0;34m\u001b[0m\u001b[0m\n\u001b[1;32m    935\u001b[0m       \u001b[0;31m# At this point we know that the initialization is complete (or less\u001b[0m\u001b[0;34m\u001b[0m\u001b[0;34m\u001b[0m\u001b[0m\n",
      "\u001b[0;32m/opt/conda/lib/python3.9/site-packages/tensorflow/python/eager/def_function.py\u001b[0m in \u001b[0;36m_initialize\u001b[0;34m(self, args, kwds, add_initializers_to)\u001b[0m\n\u001b[1;32m    757\u001b[0m     \u001b[0mself\u001b[0m\u001b[0;34m.\u001b[0m\u001b[0m_graph_deleter\u001b[0m \u001b[0;34m=\u001b[0m \u001b[0mFunctionDeleter\u001b[0m\u001b[0;34m(\u001b[0m\u001b[0mself\u001b[0m\u001b[0;34m.\u001b[0m\u001b[0m_lifted_initializer_graph\u001b[0m\u001b[0;34m)\u001b[0m\u001b[0;34m\u001b[0m\u001b[0;34m\u001b[0m\u001b[0m\n\u001b[1;32m    758\u001b[0m     self._concrete_stateful_fn = (\n\u001b[0;32m--> 759\u001b[0;31m         self._stateful_fn._get_concrete_function_internal_garbage_collected(  # pylint: disable=protected-access\n\u001b[0m\u001b[1;32m    760\u001b[0m             *args, **kwds))\n\u001b[1;32m    761\u001b[0m \u001b[0;34m\u001b[0m\u001b[0m\n",
      "\u001b[0;32m/opt/conda/lib/python3.9/site-packages/tensorflow/python/eager/function.py\u001b[0m in \u001b[0;36m_get_concrete_function_internal_garbage_collected\u001b[0;34m(self, *args, **kwargs)\u001b[0m\n\u001b[1;32m   3064\u001b[0m       \u001b[0margs\u001b[0m\u001b[0;34m,\u001b[0m \u001b[0mkwargs\u001b[0m \u001b[0;34m=\u001b[0m \u001b[0;32mNone\u001b[0m\u001b[0;34m,\u001b[0m \u001b[0;32mNone\u001b[0m\u001b[0;34m\u001b[0m\u001b[0;34m\u001b[0m\u001b[0m\n\u001b[1;32m   3065\u001b[0m     \u001b[0;32mwith\u001b[0m \u001b[0mself\u001b[0m\u001b[0;34m.\u001b[0m\u001b[0m_lock\u001b[0m\u001b[0;34m:\u001b[0m\u001b[0;34m\u001b[0m\u001b[0;34m\u001b[0m\u001b[0m\n\u001b[0;32m-> 3066\u001b[0;31m       \u001b[0mgraph_function\u001b[0m\u001b[0;34m,\u001b[0m \u001b[0m_\u001b[0m \u001b[0;34m=\u001b[0m \u001b[0mself\u001b[0m\u001b[0;34m.\u001b[0m\u001b[0m_maybe_define_function\u001b[0m\u001b[0;34m(\u001b[0m\u001b[0margs\u001b[0m\u001b[0;34m,\u001b[0m \u001b[0mkwargs\u001b[0m\u001b[0;34m)\u001b[0m\u001b[0;34m\u001b[0m\u001b[0;34m\u001b[0m\u001b[0m\n\u001b[0m\u001b[1;32m   3067\u001b[0m     \u001b[0;32mreturn\u001b[0m \u001b[0mgraph_function\u001b[0m\u001b[0;34m\u001b[0m\u001b[0;34m\u001b[0m\u001b[0m\n\u001b[1;32m   3068\u001b[0m \u001b[0;34m\u001b[0m\u001b[0m\n",
      "\u001b[0;32m/opt/conda/lib/python3.9/site-packages/tensorflow/python/eager/function.py\u001b[0m in \u001b[0;36m_maybe_define_function\u001b[0;34m(self, args, kwargs)\u001b[0m\n\u001b[1;32m   3461\u001b[0m \u001b[0;34m\u001b[0m\u001b[0m\n\u001b[1;32m   3462\u001b[0m           \u001b[0mself\u001b[0m\u001b[0;34m.\u001b[0m\u001b[0m_function_cache\u001b[0m\u001b[0;34m.\u001b[0m\u001b[0mmissed\u001b[0m\u001b[0;34m.\u001b[0m\u001b[0madd\u001b[0m\u001b[0;34m(\u001b[0m\u001b[0mcall_context_key\u001b[0m\u001b[0;34m)\u001b[0m\u001b[0;34m\u001b[0m\u001b[0;34m\u001b[0m\u001b[0m\n\u001b[0;32m-> 3463\u001b[0;31m           \u001b[0mgraph_function\u001b[0m \u001b[0;34m=\u001b[0m \u001b[0mself\u001b[0m\u001b[0;34m.\u001b[0m\u001b[0m_create_graph_function\u001b[0m\u001b[0;34m(\u001b[0m\u001b[0margs\u001b[0m\u001b[0;34m,\u001b[0m \u001b[0mkwargs\u001b[0m\u001b[0;34m)\u001b[0m\u001b[0;34m\u001b[0m\u001b[0;34m\u001b[0m\u001b[0m\n\u001b[0m\u001b[1;32m   3464\u001b[0m           \u001b[0mself\u001b[0m\u001b[0;34m.\u001b[0m\u001b[0m_function_cache\u001b[0m\u001b[0;34m.\u001b[0m\u001b[0mprimary\u001b[0m\u001b[0;34m[\u001b[0m\u001b[0mcache_key\u001b[0m\u001b[0;34m]\u001b[0m \u001b[0;34m=\u001b[0m \u001b[0mgraph_function\u001b[0m\u001b[0;34m\u001b[0m\u001b[0;34m\u001b[0m\u001b[0m\n\u001b[1;32m   3465\u001b[0m \u001b[0;34m\u001b[0m\u001b[0m\n",
      "\u001b[0;32m/opt/conda/lib/python3.9/site-packages/tensorflow/python/eager/function.py\u001b[0m in \u001b[0;36m_create_graph_function\u001b[0;34m(self, args, kwargs, override_flat_arg_shapes)\u001b[0m\n\u001b[1;32m   3296\u001b[0m     \u001b[0marg_names\u001b[0m \u001b[0;34m=\u001b[0m \u001b[0mbase_arg_names\u001b[0m \u001b[0;34m+\u001b[0m \u001b[0mmissing_arg_names\u001b[0m\u001b[0;34m\u001b[0m\u001b[0;34m\u001b[0m\u001b[0m\n\u001b[1;32m   3297\u001b[0m     graph_function = ConcreteFunction(\n\u001b[0;32m-> 3298\u001b[0;31m         func_graph_module.func_graph_from_py_func(\n\u001b[0m\u001b[1;32m   3299\u001b[0m             \u001b[0mself\u001b[0m\u001b[0;34m.\u001b[0m\u001b[0m_name\u001b[0m\u001b[0;34m,\u001b[0m\u001b[0;34m\u001b[0m\u001b[0;34m\u001b[0m\u001b[0m\n\u001b[1;32m   3300\u001b[0m             \u001b[0mself\u001b[0m\u001b[0;34m.\u001b[0m\u001b[0m_python_function\u001b[0m\u001b[0;34m,\u001b[0m\u001b[0;34m\u001b[0m\u001b[0;34m\u001b[0m\u001b[0m\n",
      "\u001b[0;32m/opt/conda/lib/python3.9/site-packages/tensorflow/python/framework/func_graph.py\u001b[0m in \u001b[0;36mfunc_graph_from_py_func\u001b[0;34m(name, python_func, args, kwargs, signature, func_graph, autograph, autograph_options, add_control_dependencies, arg_names, op_return_value, collections, capture_by_value, override_flat_arg_shapes, acd_record_initial_resource_uses)\u001b[0m\n\u001b[1;32m   1005\u001b[0m         \u001b[0m_\u001b[0m\u001b[0;34m,\u001b[0m \u001b[0moriginal_func\u001b[0m \u001b[0;34m=\u001b[0m \u001b[0mtf_decorator\u001b[0m\u001b[0;34m.\u001b[0m\u001b[0munwrap\u001b[0m\u001b[0;34m(\u001b[0m\u001b[0mpython_func\u001b[0m\u001b[0;34m)\u001b[0m\u001b[0;34m\u001b[0m\u001b[0;34m\u001b[0m\u001b[0m\n\u001b[1;32m   1006\u001b[0m \u001b[0;34m\u001b[0m\u001b[0m\n\u001b[0;32m-> 1007\u001b[0;31m       \u001b[0mfunc_outputs\u001b[0m \u001b[0;34m=\u001b[0m \u001b[0mpython_func\u001b[0m\u001b[0;34m(\u001b[0m\u001b[0;34m*\u001b[0m\u001b[0mfunc_args\u001b[0m\u001b[0;34m,\u001b[0m \u001b[0;34m**\u001b[0m\u001b[0mfunc_kwargs\u001b[0m\u001b[0;34m)\u001b[0m\u001b[0;34m\u001b[0m\u001b[0;34m\u001b[0m\u001b[0m\n\u001b[0m\u001b[1;32m   1008\u001b[0m \u001b[0;34m\u001b[0m\u001b[0m\n\u001b[1;32m   1009\u001b[0m       \u001b[0;31m# invariant: `func_outputs` contains only Tensors, CompositeTensors,\u001b[0m\u001b[0;34m\u001b[0m\u001b[0;34m\u001b[0m\u001b[0m\n",
      "\u001b[0;32m/opt/conda/lib/python3.9/site-packages/tensorflow/python/eager/def_function.py\u001b[0m in \u001b[0;36mwrapped_fn\u001b[0;34m(*args, **kwds)\u001b[0m\n\u001b[1;32m    666\u001b[0m         \u001b[0;31m# the function a weak reference to itself to avoid a reference cycle.\u001b[0m\u001b[0;34m\u001b[0m\u001b[0;34m\u001b[0m\u001b[0m\n\u001b[1;32m    667\u001b[0m         \u001b[0;32mwith\u001b[0m \u001b[0mOptionalXlaContext\u001b[0m\u001b[0;34m(\u001b[0m\u001b[0mcompile_with_xla\u001b[0m\u001b[0;34m)\u001b[0m\u001b[0;34m:\u001b[0m\u001b[0;34m\u001b[0m\u001b[0;34m\u001b[0m\u001b[0m\n\u001b[0;32m--> 668\u001b[0;31m           \u001b[0mout\u001b[0m \u001b[0;34m=\u001b[0m \u001b[0mweak_wrapped_fn\u001b[0m\u001b[0;34m(\u001b[0m\u001b[0;34m)\u001b[0m\u001b[0;34m.\u001b[0m\u001b[0m__wrapped__\u001b[0m\u001b[0;34m(\u001b[0m\u001b[0;34m*\u001b[0m\u001b[0margs\u001b[0m\u001b[0;34m,\u001b[0m \u001b[0;34m**\u001b[0m\u001b[0mkwds\u001b[0m\u001b[0;34m)\u001b[0m\u001b[0;34m\u001b[0m\u001b[0;34m\u001b[0m\u001b[0m\n\u001b[0m\u001b[1;32m    669\u001b[0m         \u001b[0;32mreturn\u001b[0m \u001b[0mout\u001b[0m\u001b[0;34m\u001b[0m\u001b[0;34m\u001b[0m\u001b[0m\n\u001b[1;32m    670\u001b[0m \u001b[0;34m\u001b[0m\u001b[0m\n",
      "\u001b[0;32m/opt/conda/lib/python3.9/site-packages/tensorflow/python/framework/func_graph.py\u001b[0m in \u001b[0;36mwrapper\u001b[0;34m(*args, **kwargs)\u001b[0m\n\u001b[1;32m    992\u001b[0m           \u001b[0;32mexcept\u001b[0m \u001b[0mException\u001b[0m \u001b[0;32mas\u001b[0m \u001b[0me\u001b[0m\u001b[0;34m:\u001b[0m  \u001b[0;31m# pylint:disable=broad-except\u001b[0m\u001b[0;34m\u001b[0m\u001b[0;34m\u001b[0m\u001b[0m\n\u001b[1;32m    993\u001b[0m             \u001b[0;32mif\u001b[0m \u001b[0mhasattr\u001b[0m\u001b[0;34m(\u001b[0m\u001b[0me\u001b[0m\u001b[0;34m,\u001b[0m \u001b[0;34m\"ag_error_metadata\"\u001b[0m\u001b[0;34m)\u001b[0m\u001b[0;34m:\u001b[0m\u001b[0;34m\u001b[0m\u001b[0;34m\u001b[0m\u001b[0m\n\u001b[0;32m--> 994\u001b[0;31m               \u001b[0;32mraise\u001b[0m \u001b[0me\u001b[0m\u001b[0;34m.\u001b[0m\u001b[0mag_error_metadata\u001b[0m\u001b[0;34m.\u001b[0m\u001b[0mto_exception\u001b[0m\u001b[0;34m(\u001b[0m\u001b[0me\u001b[0m\u001b[0;34m)\u001b[0m\u001b[0;34m\u001b[0m\u001b[0;34m\u001b[0m\u001b[0m\n\u001b[0m\u001b[1;32m    995\u001b[0m             \u001b[0;32melse\u001b[0m\u001b[0;34m:\u001b[0m\u001b[0;34m\u001b[0m\u001b[0;34m\u001b[0m\u001b[0m\n\u001b[1;32m    996\u001b[0m               \u001b[0;32mraise\u001b[0m\u001b[0;34m\u001b[0m\u001b[0;34m\u001b[0m\u001b[0m\n",
      "\u001b[0;31mValueError\u001b[0m: in user code:\n\n    /opt/conda/lib/python3.9/site-packages/keras/engine/training.py:1586 predict_function  *\n        return step_function(self, iterator)\n    /opt/conda/lib/python3.9/site-packages/keras/engine/training.py:1576 step_function  **\n        outputs = model.distribute_strategy.run(run_step, args=(data,))\n    /opt/conda/lib/python3.9/site-packages/tensorflow/python/distribute/distribute_lib.py:1286 run\n        return self._extended.call_for_each_replica(fn, args=args, kwargs=kwargs)\n    /opt/conda/lib/python3.9/site-packages/tensorflow/python/distribute/distribute_lib.py:2849 call_for_each_replica\n        return self._call_for_each_replica(fn, args, kwargs)\n    /opt/conda/lib/python3.9/site-packages/tensorflow/python/distribute/distribute_lib.py:3632 _call_for_each_replica\n        return fn(*args, **kwargs)\n    /opt/conda/lib/python3.9/site-packages/keras/engine/training.py:1569 run_step  **\n        outputs = model.predict_step(data)\n    /opt/conda/lib/python3.9/site-packages/keras/engine/training.py:1537 predict_step\n        return self(x, training=False)\n    /opt/conda/lib/python3.9/site-packages/keras/engine/base_layer.py:1037 __call__\n        outputs = call_fn(inputs, *args, **kwargs)\n    /opt/conda/lib/python3.9/site-packages/keras/engine/functional.py:414 call\n        return self._run_internal_graph(\n    /opt/conda/lib/python3.9/site-packages/keras/engine/functional.py:550 _run_internal_graph\n        outputs = node.layer(*args, **kwargs)\n    /opt/conda/lib/python3.9/site-packages/keras/engine/base_layer.py:1020 __call__\n        input_spec.assert_input_compatibility(self.input_spec, inputs, self.name)\n    /opt/conda/lib/python3.9/site-packages/keras/engine/input_spec.py:250 assert_input_compatibility\n        raise ValueError(\n\n    ValueError: Input 0 of layer dense_2 is incompatible with the layer: expected axis -1 of input shape to have value 256 but received input with shape (None, 1, 512)\n"
     ]
    }
   ],
   "source": [
    "for i in range(50, 100):\n",
    "    print(\"원문 :\", seq2text(e_x_test[i]))\n",
    "    print(\"실제 요약 :\", seq2summary(d_x_test[i]))\n",
    "    print(\"예측 요약 :\", decode_sequence(encoder_model, decoder_model, e_x_test[i].reshape(1, max_len)))\n",
    "    print(\"\\n\")"
   ]
  },
  {
   "cell_type": "markdown",
   "id": "872955cb",
   "metadata": {},
   "source": [
    "## summa 추출적 요약"
   ]
  },
  {
   "cell_type": "code",
   "execution_count": 216,
   "id": "d8ed8be5",
   "metadata": {},
   "outputs": [],
   "source": [
    "from summa.summarizer import summarize"
   ]
  },
  {
   "cell_type": "code",
   "execution_count": 223,
   "id": "1f970226",
   "metadata": {},
   "outputs": [],
   "source": [
    "data_s = data0"
   ]
  },
  {
   "cell_type": "code",
   "execution_count": 224,
   "id": "5d8cf4ec",
   "metadata": {},
   "outputs": [],
   "source": [
    "summa_data = []\n",
    "\n",
    "for seq in data_s['text']:\n",
    "    sigle_summa_data = summarize(seq, words=50)\n",
    "    summa_data.append(sigle_summa_data)"
   ]
  },
  {
   "cell_type": "code",
   "execution_count": 226,
   "id": "5c24d588",
   "metadata": {},
   "outputs": [
    {
     "data": {
      "text/html": [
       "<div>\n",
       "<style scoped>\n",
       "    .dataframe tbody tr th:only-of-type {\n",
       "        vertical-align: middle;\n",
       "    }\n",
       "\n",
       "    .dataframe tbody tr th {\n",
       "        vertical-align: top;\n",
       "    }\n",
       "\n",
       "    .dataframe thead th {\n",
       "        text-align: right;\n",
       "    }\n",
       "</style>\n",
       "<table border=\"1\" class=\"dataframe\">\n",
       "  <thead>\n",
       "    <tr style=\"text-align: right;\">\n",
       "      <th></th>\n",
       "      <th>headlines</th>\n",
       "      <th>text</th>\n",
       "      <th>summa</th>\n",
       "    </tr>\n",
       "  </thead>\n",
       "  <tbody>\n",
       "    <tr>\n",
       "      <th>0</th>\n",
       "      <td>upGrad learner switches to career in ML &amp; Al w...</td>\n",
       "      <td>Saurav Kant, an alumnus of upGrad and IIIT-B's...</td>\n",
       "      <td>Saurav Kant, an alumnus of upGrad and IIIT-B's...</td>\n",
       "    </tr>\n",
       "    <tr>\n",
       "      <th>1</th>\n",
       "      <td>Delhi techie wins free food from Swiggy for on...</td>\n",
       "      <td>Kunal Shah's credit card bill payment platform...</td>\n",
       "      <td>Kunal Shah's credit card bill payment platform...</td>\n",
       "    </tr>\n",
       "    <tr>\n",
       "      <th>2</th>\n",
       "      <td>New Zealand end Rohit Sharma-led India's 12-ma...</td>\n",
       "      <td>New Zealand defeated India by 8 wickets in the...</td>\n",
       "      <td>New Zealand defeated India by 8 wickets in the...</td>\n",
       "    </tr>\n",
       "    <tr>\n",
       "      <th>3</th>\n",
       "      <td>Aegon life iTerm insurance plan helps customer...</td>\n",
       "      <td>With Aegon Life iTerm Insurance plan, customer...</td>\n",
       "      <td>With Aegon Life iTerm Insurance plan, customer...</td>\n",
       "    </tr>\n",
       "    <tr>\n",
       "      <th>4</th>\n",
       "      <td>Have known Hirani for yrs, what if MeToo claim...</td>\n",
       "      <td>Speaking about the sexual harassment allegatio...</td>\n",
       "      <td>Speaking about the sexual harassment allegatio...</td>\n",
       "    </tr>\n",
       "  </tbody>\n",
       "</table>\n",
       "</div>"
      ],
      "text/plain": [
       "                                           headlines  \\\n",
       "0  upGrad learner switches to career in ML & Al w...   \n",
       "1  Delhi techie wins free food from Swiggy for on...   \n",
       "2  New Zealand end Rohit Sharma-led India's 12-ma...   \n",
       "3  Aegon life iTerm insurance plan helps customer...   \n",
       "4  Have known Hirani for yrs, what if MeToo claim...   \n",
       "\n",
       "                                                text  \\\n",
       "0  Saurav Kant, an alumnus of upGrad and IIIT-B's...   \n",
       "1  Kunal Shah's credit card bill payment platform...   \n",
       "2  New Zealand defeated India by 8 wickets in the...   \n",
       "3  With Aegon Life iTerm Insurance plan, customer...   \n",
       "4  Speaking about the sexual harassment allegatio...   \n",
       "\n",
       "                                               summa  \n",
       "0  Saurav Kant, an alumnus of upGrad and IIIT-B's...  \n",
       "1  Kunal Shah's credit card bill payment platform...  \n",
       "2  New Zealand defeated India by 8 wickets in the...  \n",
       "3  With Aegon Life iTerm Insurance plan, customer...  \n",
       "4  Speaking about the sexual harassment allegatio...  "
      ]
     },
     "execution_count": 226,
     "metadata": {},
     "output_type": "execute_result"
    }
   ],
   "source": [
    "data_s['summa'] = summa_data\n",
    "\n",
    "data_s.head()"
   ]
  }
 ],
 "metadata": {
  "kernelspec": {
   "display_name": "Python 3 (ipykernel)",
   "language": "python",
   "name": "python3"
  },
  "language_info": {
   "codemirror_mode": {
    "name": "ipython",
    "version": 3
   },
   "file_extension": ".py",
   "mimetype": "text/x-python",
   "name": "python",
   "nbconvert_exporter": "python",
   "pygments_lexer": "ipython3",
   "version": "3.9.7"
  }
 },
 "nbformat": 4,
 "nbformat_minor": 5
}
