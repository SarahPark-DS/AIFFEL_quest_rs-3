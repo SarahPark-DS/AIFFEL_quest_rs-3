{
 "cells": [
  {
   "cell_type": "markdown",
   "id": "f28d2b1f",
   "metadata": {},
   "source": [
    "## > Sequential model"
   ]
  },
  {
   "cell_type": "code",
   "execution_count": 1,
   "id": "a9f05bcf",
   "metadata": {},
   "outputs": [],
   "source": [
    "from tensorflow import keras\n",
    "from tensorflow.keras import layers\n",
    "\n",
    "model = keras.Sequential([\n",
    "    layers.Dense(64, activation=\"relu\"),\n",
    "    layers.Dense(10, activation=\"softmax\")\n",
    "])"
   ]
  },
  {
   "cell_type": "code",
   "execution_count": 2,
   "id": "5f7644e2",
   "metadata": {},
   "outputs": [],
   "source": [
    "model = keras.Sequential()\n",
    "model.add(layers.Dense(64, activation=\"relu\"))\n",
    "model.add(layers.Dense(10, activation=\"softmax\"))"
   ]
  },
  {
   "cell_type": "code",
   "execution_count": 3,
   "id": "86cf976d",
   "metadata": {},
   "outputs": [
    {
     "data": {
      "text/plain": [
       "[<tf.Variable 'dense_2/kernel:0' shape=(3, 64) dtype=float32, numpy=\n",
       " array([[-0.14345193,  0.16790104,  0.27165842, -0.23590814, -0.02168041,\n",
       "          0.05576816, -0.13204397, -0.24292615, -0.27806762,  0.26411015,\n",
       "         -0.2574666 ,  0.01701066,  0.07837752, -0.24776708, -0.16761488,\n",
       "          0.14547819, -0.13621622, -0.09569532, -0.03807199, -0.02415252,\n",
       "         -0.14328982,  0.21162117,  0.01590285, -0.05109289,  0.24119967,\n",
       "          0.2676317 , -0.08276266, -0.08665781,  0.09485713,  0.01245949,\n",
       "         -0.24002616,  0.13997617, -0.00198203,  0.20391512,  0.01207384,\n",
       "         -0.14028946,  0.06369555, -0.23716214,  0.0025959 ,  0.01934814,\n",
       "         -0.27616727, -0.17130132, -0.07205071,  0.2561733 , -0.2900223 ,\n",
       "         -0.2704351 , -0.03575364, -0.04968043, -0.24618666, -0.11719187,\n",
       "         -0.26505476,  0.29804903, -0.20413741,  0.23682046,  0.26146317,\n",
       "          0.03602526, -0.0542625 , -0.28925163, -0.07810432,  0.2684731 ,\n",
       "         -0.00695845,  0.02495247,  0.17797267,  0.14994153],\n",
       "        [ 0.20236176, -0.29440996, -0.2527938 ,  0.13519752,  0.05736148,\n",
       "          0.0400897 ,  0.02888224, -0.29195702,  0.24522513, -0.12221187,\n",
       "         -0.03796411,  0.23460603, -0.10438985, -0.01832032, -0.06885763,\n",
       "         -0.25636023,  0.24283111,  0.07757854, -0.15013233,  0.02662399,\n",
       "         -0.1778314 , -0.04942015,  0.27442724,  0.21703672, -0.07737343,\n",
       "         -0.07197928, -0.22515172,  0.03974658, -0.04772472, -0.0523053 ,\n",
       "          0.22324157, -0.00214306,  0.02042726,  0.27550632, -0.12187526,\n",
       "         -0.05003145, -0.27636963,  0.06601065,  0.19900012, -0.02105412,\n",
       "          0.24732864,  0.28625858,  0.00988841,  0.22533429, -0.2831397 ,\n",
       "         -0.1644823 , -0.0686729 ,  0.09191698, -0.28699803, -0.00911099,\n",
       "          0.2319268 ,  0.18933183, -0.11327545, -0.16829738,  0.00459918,\n",
       "          0.01767054, -0.03088158,  0.163221  , -0.28555974,  0.12198812,\n",
       "         -0.13128775,  0.2968409 ,  0.10898933,  0.2596134 ],\n",
       "        [-0.15853742,  0.16355056, -0.23612617, -0.1498291 ,  0.06842974,\n",
       "          0.08428586, -0.272957  ,  0.01598069,  0.2860654 , -0.1486423 ,\n",
       "          0.1795184 ,  0.06822327,  0.1003015 ,  0.23404169, -0.232568  ,\n",
       "          0.16345653,  0.14948663, -0.24334417,  0.10283154, -0.18267253,\n",
       "         -0.1035182 , -0.2376065 , -0.11899838, -0.04701045,  0.28396142,\n",
       "          0.25668603, -0.05534655, -0.08264272, -0.11905952, -0.27524075,\n",
       "          0.02183482,  0.14164755,  0.22146058, -0.11509696,  0.13739344,\n",
       "          0.03334078,  0.1097101 ,  0.1532622 ,  0.01226312, -0.29484496,\n",
       "         -0.01450214,  0.06227818, -0.09175828, -0.24872656,  0.26523042,\n",
       "         -0.15514077, -0.00672764, -0.25204742,  0.2616272 ,  0.00123495,\n",
       "          0.25654298,  0.00042373, -0.00920317,  0.00261801,  0.20520258,\n",
       "          0.10231158, -0.00568581,  0.23198181, -0.11000682, -0.05192538,\n",
       "         -0.0085609 , -0.2108798 ,  0.12427381, -0.06857352]],\n",
       "       dtype=float32)>,\n",
       " <tf.Variable 'dense_2/bias:0' shape=(64,) dtype=float32, numpy=\n",
       " array([0., 0., 0., 0., 0., 0., 0., 0., 0., 0., 0., 0., 0., 0., 0., 0., 0.,\n",
       "        0., 0., 0., 0., 0., 0., 0., 0., 0., 0., 0., 0., 0., 0., 0., 0., 0.,\n",
       "        0., 0., 0., 0., 0., 0., 0., 0., 0., 0., 0., 0., 0., 0., 0., 0., 0.,\n",
       "        0., 0., 0., 0., 0., 0., 0., 0., 0., 0., 0., 0., 0.], dtype=float32)>,\n",
       " <tf.Variable 'dense_3/kernel:0' shape=(64, 10) dtype=float32, numpy=\n",
       " array([[ 0.04202226, -0.18274659,  0.26193282,  0.0658913 ,  0.13995373,\n",
       "          0.00265399, -0.06950693, -0.2267645 , -0.23660882, -0.02352214],\n",
       "        [-0.00639236, -0.24710535, -0.01936767,  0.23839048,  0.17958716,\n",
       "          0.13046488, -0.27202275, -0.2563699 , -0.20746154,  0.2844635 ],\n",
       "        [-0.10773106, -0.06943043,  0.0808419 ,  0.20999283,  0.2503046 ,\n",
       "          0.13114598, -0.0959762 , -0.17839366,  0.19059217,  0.19665086],\n",
       "        [-0.08255996,  0.2299284 ,  0.021671  , -0.24631274, -0.12984788,\n",
       "          0.22855195,  0.27259007,  0.00129452, -0.19077724, -0.21698399],\n",
       "        [-0.19561617, -0.11997451,  0.08740753,  0.06179589, -0.28408182,\n",
       "          0.0037424 ,  0.24851492, -0.00461665, -0.05961896, -0.11689737],\n",
       "        [ 0.28109375,  0.066856  ,  0.2113663 ,  0.16786149,  0.2767637 ,\n",
       "          0.09043762, -0.09817167,  0.07942954,  0.10159022, -0.23086493],\n",
       "        [-0.12765059, -0.01321787,  0.25266823, -0.03417665, -0.2168681 ,\n",
       "          0.13295245, -0.26853567,  0.17782822,  0.07860571, -0.18334489],\n",
       "        [ 0.09657389,  0.24680236,  0.10190257,  0.23928472,  0.00928336,\n",
       "          0.24763921,  0.04871535,  0.17473635,  0.02197856, -0.01184577],\n",
       "        [-0.03819521, -0.28239775,  0.16719264, -0.07345523,  0.26351896,\n",
       "         -0.27737838, -0.10743079,  0.19433102, -0.09818178,  0.02363619],\n",
       "        [-0.07075617, -0.20570992, -0.20140418, -0.14294478,  0.17711416,\n",
       "          0.00396281, -0.0753253 , -0.22688445,  0.20111308,  0.10204902],\n",
       "        [-0.03028023,  0.02174217,  0.19626099, -0.03622058,  0.07844424,\n",
       "          0.14950687, -0.12852806,  0.28470054, -0.22682063,  0.05256304],\n",
       "        [ 0.05327168,  0.08289868,  0.10442927, -0.0604715 ,  0.17630097,\n",
       "         -0.09371075,  0.17028806,  0.20759872,  0.12720612,  0.13090682],\n",
       "        [-0.14746748, -0.08797032,  0.24407205, -0.08264434, -0.13816206,\n",
       "         -0.16646788, -0.18656874, -0.01373082,  0.10153508, -0.18954669],\n",
       "        [ 0.00170279, -0.22639218, -0.02812243,  0.10928747,  0.2578365 ,\n",
       "         -0.01206788,  0.10027391, -0.16888452,  0.09380335,  0.11166483],\n",
       "        [-0.15609795,  0.21396407, -0.25367254,  0.0849508 ,  0.0618428 ,\n",
       "         -0.19695623,  0.18202043,  0.18088248,  0.11496675,  0.28206888],\n",
       "        [-0.21059828, -0.09512311, -0.24797793, -0.09847561,  0.10237345,\n",
       "         -0.22928861,  0.11469784,  0.22364554, -0.13187282,  0.04175389],\n",
       "        [ 0.10546249, -0.03154451, -0.08053286, -0.01039109, -0.14480168,\n",
       "          0.28029767,  0.17331672, -0.12864761,  0.2522193 , -0.2546276 ],\n",
       "        [-0.26840737,  0.01515114,  0.1902917 ,  0.04407188,  0.09576723,\n",
       "          0.10142809,  0.00143638,  0.21042895,  0.01886007, -0.258023  ],\n",
       "        [ 0.04726002, -0.12488323,  0.0681465 , -0.09616086, -0.03657395,\n",
       "          0.10177821, -0.14318694,  0.11301824,  0.06060791,  0.28063956],\n",
       "        [ 0.0299775 ,  0.10667002,  0.18632609, -0.02390802, -0.10686201,\n",
       "          0.04361996,  0.18139559, -0.20452452,  0.02198574, -0.27223647],\n",
       "        [-0.28083882,  0.0272409 , -0.03659235,  0.2833223 ,  0.02873704,\n",
       "          0.08921236, -0.11643845,  0.27940866, -0.26027828,  0.11847553],\n",
       "        [-0.25025132, -0.05566795,  0.1121991 , -0.0464734 ,  0.18546295,\n",
       "         -0.21026927,  0.09308764,  0.17059451,  0.10294616,  0.17191935],\n",
       "        [ 0.05081171,  0.06887639, -0.12124248,  0.15738723,  0.08827412,\n",
       "          0.05016297,  0.25813344, -0.25581098, -0.05549815, -0.03515378],\n",
       "        [-0.01437768,  0.14418057, -0.2836381 , -0.21546477, -0.07783781,\n",
       "          0.1392335 , -0.17514035,  0.07422665, -0.2523286 , -0.12169795],\n",
       "        [ 0.04463592, -0.16059315, -0.06431662,  0.13173366,  0.04784063,\n",
       "         -0.18397082,  0.02363098, -0.21049955,  0.00520933,  0.1431644 ],\n",
       "        [-0.13896675, -0.11083061, -0.05323908, -0.01614383,  0.24015155,\n",
       "         -0.04664733,  0.04750082,  0.07555571,  0.2772002 ,  0.07531545],\n",
       "        [-0.19036068,  0.25722203,  0.10084921,  0.14966384, -0.2319671 ,\n",
       "         -0.08543758, -0.15385985, -0.13543937,  0.27230582, -0.07671654],\n",
       "        [ 0.06582457, -0.05740978,  0.18847919, -0.2201542 ,  0.2660297 ,\n",
       "         -0.12420495, -0.28299686,  0.12249252,  0.21043581, -0.05839838],\n",
       "        [-0.16934976,  0.2645329 ,  0.04591835,  0.22466978, -0.12694462,\n",
       "          0.09402141,  0.02477998,  0.10820919, -0.00869891, -0.22342198],\n",
       "        [ 0.18760723,  0.00512326,  0.07089844,  0.00703236, -0.0544659 ,\n",
       "          0.19439688,  0.10008091,  0.09400931, -0.14812335, -0.07749388],\n",
       "        [ 0.04858896, -0.01736426, -0.12692201, -0.24725857,  0.0590381 ,\n",
       "         -0.0901926 ,  0.07656577,  0.25474104,  0.27619115, -0.18141854],\n",
       "        [ 0.02869955,  0.16330376, -0.0766968 , -0.05661541,  0.03681704,\n",
       "         -0.2064548 ,  0.23722991,  0.24174562,  0.13929614, -0.02769828],\n",
       "        [-0.1721645 , -0.07616515,  0.00455487,  0.12084275, -0.00673887,\n",
       "         -0.26263437,  0.20030066, -0.24459699,  0.07443541,  0.15834486],\n",
       "        [-0.0722722 , -0.2070975 , -0.1321788 ,  0.04792935,  0.28145936,\n",
       "          0.14886457, -0.14661343, -0.19430923, -0.03932066, -0.02390164],\n",
       "        [ 0.06416944,  0.04094538,  0.10938504,  0.06384242, -0.06189106,\n",
       "         -0.02927893,  0.2645608 ,  0.13918766, -0.20119312,  0.03801388],\n",
       "        [-0.17302576,  0.0976496 ,  0.03499246,  0.18286043,  0.18997324,\n",
       "          0.1815955 ,  0.14658928,  0.2800103 , -0.16219173,  0.03937748],\n",
       "        [-0.22153297, -0.17943156,  0.23524323, -0.184551  ,  0.04693687,\n",
       "          0.11761755,  0.28414348, -0.13031374,  0.00059232,  0.10197896],\n",
       "        [ 0.23563161,  0.20211181,  0.06309059, -0.12946832, -0.20511088,\n",
       "          0.02626085, -0.11708732, -0.19397855, -0.02744204,  0.08647758],\n",
       "        [-0.228089  ,  0.25005135,  0.05656043, -0.1325676 ,  0.21411955,\n",
       "          0.16616195,  0.22286484,  0.20475933,  0.0237816 ,  0.06810877],\n",
       "        [ 0.02383387,  0.06662598, -0.2213667 ,  0.26406607,  0.01457265,\n",
       "         -0.27706608, -0.17443383, -0.11841503, -0.11645202, -0.22333175],\n",
       "        [ 0.03284445, -0.10052423,  0.23824742, -0.05505458, -0.01252192,\n",
       "         -0.00420031, -0.21043229,  0.14934069,  0.03238878,  0.00681904],\n",
       "        [ 0.1456663 ,  0.07947427, -0.20063841, -0.16649216,  0.25002602,\n",
       "         -0.02847511,  0.13658297,  0.12338954, -0.13830137, -0.20268342],\n",
       "        [ 0.03459811,  0.17788354, -0.1505673 , -0.19085328, -0.09991024,\n",
       "          0.2505664 , -0.13368654,  0.13480705,  0.02156821,  0.02983922],\n",
       "        [-0.0776763 ,  0.19543484, -0.26161113,  0.04678196,  0.28392676,\n",
       "          0.03886023, -0.02512622, -0.13608554, -0.14354695,  0.21762481],\n",
       "        [-0.2580003 , -0.075757  , -0.18980046, -0.26188642,  0.2507489 ,\n",
       "         -0.01794967, -0.10285792, -0.15567914, -0.20762439, -0.21920979],\n",
       "        [ 0.20834944, -0.05601928,  0.05388632,  0.25975636,  0.08984882,\n",
       "         -0.0084044 , -0.23225135,  0.25573847,  0.11970547,  0.09060678],\n",
       "        [-0.03281295, -0.10218439, -0.06132276,  0.07814515,  0.11189592,\n",
       "         -0.12934789,  0.24852124,  0.05259562,  0.12186304,  0.2115469 ],\n",
       "        [-0.03634733, -0.2729535 , -0.14249529,  0.18984303, -0.17610364,\n",
       "         -0.01810846, -0.04529478,  0.04685494, -0.03086215, -0.24398577],\n",
       "        [ 0.10245344, -0.21929845,  0.1482178 , -0.11239259, -0.09724668,\n",
       "         -0.15363927,  0.05722845,  0.25753543,  0.11239374,  0.24081293],\n",
       "        [-0.09457612,  0.14391771,  0.08339608, -0.05661942, -0.23118223,\n",
       "          0.04048607, -0.10256843,  0.19249314,  0.02733648,  0.20529947],\n",
       "        [ 0.23019502, -0.12468974, -0.1381814 , -0.16026485,  0.21442571,\n",
       "          0.17194957,  0.11304072,  0.13140675,  0.2677274 ,  0.26842663],\n",
       "        [-0.03974463,  0.06154665, -0.2623557 , -0.27263442,  0.15853515,\n",
       "          0.18427122, -0.19764905,  0.24092504,  0.23986003, -0.10569656],\n",
       "        [-0.28205913,  0.22203168, -0.20646125,  0.1584078 ,  0.03574923,\n",
       "         -0.1974436 ,  0.27819642,  0.24626622, -0.14274117, -0.18100992],\n",
       "        [ 0.19530436,  0.05253574,  0.0202035 ,  0.19399288, -0.00114068,\n",
       "         -0.09211318,  0.0384967 , -0.23511906, -0.25500736, -0.19585711],\n",
       "        [-0.02387279,  0.1557245 ,  0.22679761,  0.03244406, -0.16926028,\n",
       "         -0.08947203, -0.00931832, -0.08016117, -0.21066087, -0.15283173],\n",
       "        [ 0.03785324,  0.19718373, -0.08381231, -0.07695091,  0.16452426,\n",
       "         -0.18677852, -0.15926321, -0.16589698, -0.18384604, -0.03956988],\n",
       "        [ 0.22210684, -0.13637747,  0.2047897 , -0.24188197, -0.16907305,\n",
       "         -0.0547733 , -0.27289897, -0.1854622 ,  0.03046128, -0.2497996 ],\n",
       "        [-0.07590438, -0.01741734,  0.04518431,  0.20437711, -0.25298557,\n",
       "          0.0450097 , -0.1708926 , -0.0436746 ,  0.08340308, -0.25289756],\n",
       "        [ 0.20100549, -0.09295826,  0.021386  ,  0.00757059, -0.2158613 ,\n",
       "         -0.17049178,  0.19815075,  0.11114705, -0.18080929, -0.14171816],\n",
       "        [ 0.06347737, -0.08239432, -0.06582579,  0.04047954, -0.00032803,\n",
       "          0.25277522, -0.27140304, -0.15291375,  0.10735828,  0.01093897],\n",
       "        [-0.2563193 , -0.08749841,  0.09197691, -0.15913571,  0.03164798,\n",
       "         -0.22827862,  0.1497421 , -0.0792778 , -0.26080427,  0.13709682],\n",
       "        [ 0.11508745,  0.23082224,  0.23085454, -0.22130641,  0.11317557,\n",
       "         -0.06675681,  0.00892708, -0.17770833, -0.17468414,  0.25315496],\n",
       "        [ 0.15563697,  0.28186116,  0.2211859 , -0.03256625,  0.01593173,\n",
       "          0.09857759,  0.01556969, -0.12653892,  0.16966319, -0.08500804],\n",
       "        [ 0.18408209,  0.2846025 ,  0.03389978, -0.10721184,  0.27707472,\n",
       "         -0.10996909, -0.23210125, -0.05486259,  0.24581048,  0.2055527 ]],\n",
       "       dtype=float32)>,\n",
       " <tf.Variable 'dense_3/bias:0' shape=(10,) dtype=float32, numpy=array([0., 0., 0., 0., 0., 0., 0., 0., 0., 0.], dtype=float32)>]"
      ]
     },
     "execution_count": 3,
     "metadata": {},
     "output_type": "execute_result"
    }
   ],
   "source": [
    "model.build(input_shape=(None, 3))\n",
    "model.weights"
   ]
  },
  {
   "cell_type": "code",
   "execution_count": 4,
   "id": "c1ac0064",
   "metadata": {},
   "outputs": [
    {
     "name": "stdout",
     "output_type": "stream",
     "text": [
      "Model: \"sequential_1\"\n",
      "_________________________________________________________________\n",
      "Layer (type)                 Output Shape              Param #   \n",
      "=================================================================\n",
      "dense_2 (Dense)              (None, 64)                256       \n",
      "_________________________________________________________________\n",
      "dense_3 (Dense)              (None, 10)                650       \n",
      "=================================================================\n",
      "Total params: 906\n",
      "Trainable params: 906\n",
      "Non-trainable params: 0\n",
      "_________________________________________________________________\n"
     ]
    }
   ],
   "source": [
    "model.summary()"
   ]
  },
  {
   "cell_type": "code",
   "execution_count": 5,
   "id": "54aff9ac",
   "metadata": {},
   "outputs": [
    {
     "name": "stdout",
     "output_type": "stream",
     "text": [
      "Model: \"my_example_model\"\n",
      "_________________________________________________________________\n",
      "Layer (type)                 Output Shape              Param #   \n",
      "=================================================================\n",
      "my_first_layer (Dense)       (None, 64)                256       \n",
      "_________________________________________________________________\n",
      "my_last_layer (Dense)        (None, 10)                650       \n",
      "=================================================================\n",
      "Total params: 906\n",
      "Trainable params: 906\n",
      "Non-trainable params: 0\n",
      "_________________________________________________________________\n"
     ]
    }
   ],
   "source": [
    "model = keras.Sequential(name=\"my_example_model\")\n",
    "model.add(layers.Dense(64, activation=\"relu\", name=\"my_first_layer\"))\n",
    "model.add(layers.Dense(10, activation=\"softmax\", name=\"my_last_layer\"))\n",
    "model.build((None, 3))\n",
    "model.summary()"
   ]
  },
  {
   "cell_type": "code",
   "execution_count": 6,
   "id": "bc36799b",
   "metadata": {},
   "outputs": [],
   "source": [
    "model = keras.Sequential()\n",
    "model.add(keras.Input(shape=(3,)))\n",
    "model.add(layers.Dense(64, activation=\"relu\"))"
   ]
  },
  {
   "cell_type": "code",
   "execution_count": 7,
   "id": "cedc827f",
   "metadata": {},
   "outputs": [
    {
     "name": "stdout",
     "output_type": "stream",
     "text": [
      "Model: \"sequential_2\"\n",
      "_________________________________________________________________\n",
      "Layer (type)                 Output Shape              Param #   \n",
      "=================================================================\n",
      "dense_4 (Dense)              (None, 64)                256       \n",
      "=================================================================\n",
      "Total params: 256\n",
      "Trainable params: 256\n",
      "Non-trainable params: 0\n",
      "_________________________________________________________________\n"
     ]
    }
   ],
   "source": [
    "model.summary()"
   ]
  },
  {
   "cell_type": "code",
   "execution_count": 8,
   "id": "8b6e5fc9",
   "metadata": {},
   "outputs": [
    {
     "name": "stdout",
     "output_type": "stream",
     "text": [
      "Model: \"sequential_2\"\n",
      "_________________________________________________________________\n",
      "Layer (type)                 Output Shape              Param #   \n",
      "=================================================================\n",
      "dense_4 (Dense)              (None, 64)                256       \n",
      "_________________________________________________________________\n",
      "dense_5 (Dense)              (None, 10)                650       \n",
      "=================================================================\n",
      "Total params: 906\n",
      "Trainable params: 906\n",
      "Non-trainable params: 0\n",
      "_________________________________________________________________\n"
     ]
    }
   ],
   "source": [
    "model.add(layers.Dense(10, activation=\"softmax\"))\n",
    "model.summary()"
   ]
  },
  {
   "cell_type": "markdown",
   "id": "5b3071f7",
   "metadata": {},
   "source": [
    "## > Functional API model"
   ]
  },
  {
   "cell_type": "code",
   "execution_count": 11,
   "id": "55b56e66",
   "metadata": {},
   "outputs": [],
   "source": [
    "inputs = keras.Input(shape=(3,), name=\"my_input\")\n",
    "features = layers.Dense(64, activation=\"relu\")(inputs)\n",
    "outputs = layers.Dense(10, activation=\"softmax\")(features)\n",
    "model = keras.Model(inputs=inputs, outputs=outputs)"
   ]
  },
  {
   "cell_type": "code",
   "execution_count": 12,
   "id": "4a2e38b7",
   "metadata": {},
   "outputs": [],
   "source": [
    "inputs = keras.Input(shape=(3,), name=\"my_input\")"
   ]
  },
  {
   "cell_type": "code",
   "execution_count": 13,
   "id": "e97cc6b9",
   "metadata": {},
   "outputs": [
    {
     "data": {
      "text/plain": [
       "TensorShape([None, 3])"
      ]
     },
     "execution_count": 13,
     "metadata": {},
     "output_type": "execute_result"
    }
   ],
   "source": [
    "inputs.shape"
   ]
  },
  {
   "cell_type": "code",
   "execution_count": 14,
   "id": "3992b8f2",
   "metadata": {},
   "outputs": [
    {
     "data": {
      "text/plain": [
       "tf.float32"
      ]
     },
     "execution_count": 14,
     "metadata": {},
     "output_type": "execute_result"
    }
   ],
   "source": [
    "inputs.dtype"
   ]
  },
  {
   "cell_type": "code",
   "execution_count": 15,
   "id": "9ca8deb5",
   "metadata": {},
   "outputs": [],
   "source": [
    "features = layers.Dense(64, activation=\"relu\")(inputs)"
   ]
  },
  {
   "cell_type": "code",
   "execution_count": 16,
   "id": "a5ae0f74",
   "metadata": {},
   "outputs": [
    {
     "data": {
      "text/plain": [
       "TensorShape([None, 64])"
      ]
     },
     "execution_count": 16,
     "metadata": {},
     "output_type": "execute_result"
    }
   ],
   "source": [
    "features.shape"
   ]
  },
  {
   "cell_type": "code",
   "execution_count": 17,
   "id": "4139e9e1",
   "metadata": {},
   "outputs": [],
   "source": [
    "outputs = layers.Dense(10, activation=\"softmax\")(features)\n",
    "model = keras.Model(inputs=inputs, outputs=outputs)"
   ]
  },
  {
   "cell_type": "code",
   "execution_count": 18,
   "id": "9b8919b7",
   "metadata": {},
   "outputs": [
    {
     "name": "stdout",
     "output_type": "stream",
     "text": [
      "Model: \"model_2\"\n",
      "_________________________________________________________________\n",
      "Layer (type)                 Output Shape              Param #   \n",
      "=================================================================\n",
      "my_input (InputLayer)        [(None, 3)]               0         \n",
      "_________________________________________________________________\n",
      "dense_10 (Dense)             (None, 64)                256       \n",
      "_________________________________________________________________\n",
      "dense_11 (Dense)             (None, 10)                650       \n",
      "=================================================================\n",
      "Total params: 906\n",
      "Trainable params: 906\n",
      "Non-trainable params: 0\n",
      "_________________________________________________________________\n"
     ]
    }
   ],
   "source": [
    "model.summary()"
   ]
  },
  {
   "cell_type": "code",
   "execution_count": 19,
   "id": "ea9ee83e",
   "metadata": {},
   "outputs": [],
   "source": [
    "vocabulary_size = 10000\n",
    "num_tags = 100\n",
    "num_departments = 4\n",
    "\n",
    "title = keras.Input(shape=(vocabulary_size,), name=\"title\")\n",
    "text_body = keras.Input(shape=(vocabulary_size,), name=\"text_body\")\n",
    "tags = keras.Input(shape=(num_tags,), name=\"tags\")\n",
    "\n",
    "features = layers.Concatenate()([title, text_body, tags])\n",
    "features = layers.Dense(64, activation=\"relu\")(features)\n",
    "\n",
    "priority = layers.Dense(1, activation=\"sigmoid\", name=\"priority\")(features)\n",
    "department = layers.Dense(\n",
    "    num_departments, activation=\"softmax\", name=\"department\")(features)\n",
    "\n",
    "model = keras.Model(inputs=[title, text_body, tags], outputs=[priority, department])"
   ]
  },
  {
   "cell_type": "code",
   "execution_count": 20,
   "id": "37df6c8c",
   "metadata": {},
   "outputs": [
    {
     "name": "stdout",
     "output_type": "stream",
     "text": [
      "40/40 [==============================] - 4s 32ms/step - loss: 32.5694 - priority_loss: 0.3306 - department_loss: 32.2389 - priority_mean_absolute_error: 0.4965 - department_accuracy: 0.2344\n",
      "40/40 [==============================] - 1s 9ms/step - loss: 48.1702 - priority_loss: 0.3369 - department_loss: 47.8332 - priority_mean_absolute_error: 0.5034 - department_accuracy: 0.1344\n"
     ]
    }
   ],
   "source": [
    "import numpy as np\n",
    "\n",
    "num_samples = 1280\n",
    "\n",
    "title_data = np.random.randint(0, 2, size=(num_samples, vocabulary_size))\n",
    "text_body_data = np.random.randint(0, 2, size=(num_samples, vocabulary_size))\n",
    "tags_data = np.random.randint(0, 2, size=(num_samples, num_tags))\n",
    "\n",
    "priority_data = np.random.random(size=(num_samples, 1))\n",
    "department_data = np.random.randint(0, 2, size=(num_samples, num_departments))\n",
    "\n",
    "model.compile(optimizer=\"rmsprop\",\n",
    "              loss=[\"mean_squared_error\", \"categorical_crossentropy\"],\n",
    "              metrics=[[\"mean_absolute_error\"], [\"accuracy\"]])\n",
    "model.fit([title_data, text_body_data, tags_data],\n",
    "          [priority_data, department_data],\n",
    "          epochs=1)\n",
    "model.evaluate([title_data, text_body_data, tags_data],\n",
    "               [priority_data, department_data])\n",
    "priority_preds, department_preds = model.predict([title_data, text_body_data, tags_data])"
   ]
  },
  {
   "cell_type": "code",
   "execution_count": 21,
   "id": "b6e36789",
   "metadata": {},
   "outputs": [
    {
     "name": "stdout",
     "output_type": "stream",
     "text": [
      "40/40 [==============================] - 2s 28ms/step - loss: 39.6332 - priority_loss: 0.3369 - department_loss: 39.2963 - priority_mean_absolute_error: 0.5034 - department_accuracy: 0.2445\n",
      "40/40 [==============================] - 1s 9ms/step - loss: 13.6871 - priority_loss: 0.3369 - department_loss: 13.3502 - priority_mean_absolute_error: 0.5034 - department_accuracy: 0.2664\n"
     ]
    }
   ],
   "source": [
    "model.compile(optimizer=\"rmsprop\",\n",
    "              loss={\"priority\": \"mean_squared_error\", \"department\": \"categorical_crossentropy\"},\n",
    "              metrics={\"priority\": [\"mean_absolute_error\"], \"department\": [\"accuracy\"]})\n",
    "model.fit({\"title\": title_data, \"text_body\": text_body_data, \"tags\": tags_data},\n",
    "          {\"priority\": priority_data, \"department\": department_data},\n",
    "          epochs=1)\n",
    "model.evaluate({\"title\": title_data, \"text_body\": text_body_data, \"tags\": tags_data},\n",
    "               {\"priority\": priority_data, \"department\": department_data})\n",
    "priority_preds, department_preds = model.predict(\n",
    "    {\"title\": title_data, \"text_body\": text_body_data, \"tags\": tags_data})"
   ]
  },
  {
   "cell_type": "code",
   "execution_count": 22,
   "id": "6f23b757",
   "metadata": {},
   "outputs": [
    {
     "data": {
      "image/png": "[encoded data removed]",
      "text/plain": [
       "<IPython.core.display.Image object>"
      ]
     },
     "execution_count": 22,
     "metadata": {},
     "output_type": "execute_result"
    }
   ],
   "source": [
    "keras.utils.plot_model(model, \"ticket_classifier.png\")"
   ]
  },
  {
   "cell_type": "code",
   "execution_count": 23,
   "id": "477b7bd7",
   "metadata": {},
   "outputs": [
    {
     "data": {
      "image/png": "[encoded data removed]",
      "text/plain": [
       "<IPython.core.display.Image object>"
      ]
     },
     "execution_count": 23,
     "metadata": {},
     "output_type": "execute_result"
    }
   ],
   "source": [
    "keras.utils.plot_model(model, \"ticket_classifier_with_shape_info.png\", show_shapes=True)"
   ]
  },
  {
   "cell_type": "code",
   "execution_count": 24,
   "id": "788cf289",
   "metadata": {},
   "outputs": [
    {
     "data": {
      "text/plain": [
       "[<keras.engine.input_layer.InputLayer at 0x78a1f8138d30>,\n",
       " <keras.engine.input_layer.InputLayer at 0x78a1f8138cd0>,\n",
       " <keras.engine.input_layer.InputLayer at 0x78a1f8138bb0>,\n",
       " <keras.layers.merge.Concatenate at 0x78a1f81a4370>,\n",
       " <keras.layers.core.Dense at 0x78a1f812b730>,\n",
       " <keras.layers.core.Dense at 0x78a1f9a71d90>,\n",
       " <keras.layers.core.Dense at 0x78a1f81425b0>]"
      ]
     },
     "execution_count": 24,
     "metadata": {},
     "output_type": "execute_result"
    }
   ],
   "source": [
    "model.layers"
   ]
  },
  {
   "cell_type": "code",
   "execution_count": 25,
   "id": "64349798",
   "metadata": {},
   "outputs": [
    {
     "data": {
      "text/plain": [
       "[<KerasTensor: shape=(None, 10000) dtype=float32 (created by layer 'title')>,\n",
       " <KerasTensor: shape=(None, 10000) dtype=float32 (created by layer 'text_body')>,\n",
       " <KerasTensor: shape=(None, 100) dtype=float32 (created by layer 'tags')>]"
      ]
     },
     "execution_count": 25,
     "metadata": {},
     "output_type": "execute_result"
    }
   ],
   "source": [
    "model.layers[3].input"
   ]
  },
  {
   "cell_type": "code",
   "execution_count": 26,
   "id": "ac476f1c",
   "metadata": {},
   "outputs": [
    {
     "data": {
      "text/plain": [
       "<KerasTensor: shape=(None, 20100) dtype=float32 (created by layer 'concatenate')>"
      ]
     },
     "execution_count": 26,
     "metadata": {},
     "output_type": "execute_result"
    }
   ],
   "source": [
    "model.layers[3].output"
   ]
  },
  {
   "cell_type": "code",
   "execution_count": 27,
   "id": "5c246821",
   "metadata": {},
   "outputs": [],
   "source": [
    "features = model.layers[4].output\n",
    "difficulty = layers.Dense(3, activation=\"softmax\", name=\"difficulty\")(features)\n",
    "\n",
    "new_model = keras.Model(\n",
    "    inputs=[title, text_body, tags],\n",
    "    outputs=[priority, department, difficulty])"
   ]
  },
  {
   "cell_type": "code",
   "execution_count": 28,
   "id": "29354f76",
   "metadata": {},
   "outputs": [
    {
     "data": {
      "image/png": "[encoded data removed]",
      "text/plain": [
       "<IPython.core.display.Image object>"
      ]
     },
     "execution_count": 28,
     "metadata": {},
     "output_type": "execute_result"
    }
   ],
   "source": [
    "keras.utils.plot_model(new_model, \"updated_ticket_classifier.png\", show_shapes=True)"
   ]
  },
  {
   "cell_type": "markdown",
   "id": "5f243e67",
   "metadata": {},
   "source": [
    "## > Subclassing model"
   ]
  },
  {
   "cell_type": "code",
   "execution_count": 29,
   "id": "107a790a",
   "metadata": {},
   "outputs": [],
   "source": [
    "class CustomerTicketModel(keras.Model):\n",
    "\n",
    "    def __init__(self, num_departments):\n",
    "        super().__init__()\n",
    "        self.concat_layer = layers.Concatenate()\n",
    "        self.mixing_layer = layers.Dense(64, activation=\"relu\")\n",
    "        self.priority_scorer = layers.Dense(1, activation=\"sigmoid\")\n",
    "        self.department_classifier = layers.Dense(\n",
    "            num_departments, activation=\"softmax\")\n",
    "\n",
    "    def call(self, inputs):\n",
    "        title = inputs[\"title\"]\n",
    "        text_body = inputs[\"text_body\"]\n",
    "        tags = inputs[\"tags\"]\n",
    "\n",
    "        features = self.concat_layer([title, text_body, tags])\n",
    "        features = self.mixing_layer(features)\n",
    "        priority = self.priority_scorer(features)\n",
    "        department = self.department_classifier(features)\n",
    "        return priority, department"
   ]
  },
  {
   "cell_type": "code",
   "execution_count": 30,
   "id": "b3d33a6c",
   "metadata": {},
   "outputs": [],
   "source": [
    "model = CustomerTicketModel(num_departments=4)\n",
    "\n",
    "priority, department = model(\n",
    "    {\"title\": title_data, \"text_body\": text_body_data, \"tags\": tags_data})"
   ]
  },
  {
   "cell_type": "code",
   "execution_count": 31,
   "id": "1babbece",
   "metadata": {},
   "outputs": [
    {
     "name": "stdout",
     "output_type": "stream",
     "text": [
      "40/40 [==============================] - 2s 27ms/step - loss: 29.3015 - output_1_loss: 0.3223 - output_2_loss: 28.9792 - output_1_mean_absolute_error: 0.4877 - output_2_accuracy: 0.2320\n",
      "40/40 [==============================] - 1s 10ms/step - loss: 33.2184 - output_1_loss: 0.3302 - output_2_loss: 32.8882 - output_1_mean_absolute_error: 0.4966 - output_2_accuracy: 0.1344\n"
     ]
    }
   ],
   "source": [
    "model.compile(optimizer=\"rmsprop\",\n",
    "              loss=[\"mean_squared_error\", \"categorical_crossentropy\"],\n",
    "              metrics=[[\"mean_absolute_error\"], [\"accuracy\"]])\n",
    "model.fit({\"title\": title_data,\n",
    "           \"text_body\": text_body_data,\n",
    "           \"tags\": tags_data},\n",
    "          [priority_data, department_data],\n",
    "          epochs=1)\n",
    "model.evaluate({\"title\": title_data,\n",
    "                \"text_body\": text_body_data,\n",
    "                \"tags\": tags_data},\n",
    "               [priority_data, department_data])\n",
    "priority_preds, department_preds = model.predict({\"title\": title_data,\n",
    "                                                  \"text_body\": text_body_data,\n",
    "                                                  \"tags\": tags_data})"
   ]
  },
  {
   "cell_type": "markdown",
   "id": "f315e1bd",
   "metadata": {},
   "source": [
    "## > 혼합 모델"
   ]
  },
  {
   "cell_type": "markdown",
   "id": "8e8be25a",
   "metadata": {},
   "source": [
    "### Subclassing - Functional  API model"
   ]
  },
  {
   "cell_type": "code",
   "execution_count": 33,
   "id": "af135ada",
   "metadata": {},
   "outputs": [],
   "source": [
    "class Classifier(keras.Model):\n",
    "\n",
    "    def __init__(self, num_classes=2):\n",
    "        super().__init__()\n",
    "        if num_classes == 2:\n",
    "            num_units = 1\n",
    "            activation = \"sigmoid\"\n",
    "        else:\n",
    "            num_units = num_classes\n",
    "            activation = \"softmax\"\n",
    "        self.dense = layers.Dense(num_units, activation=activation)\n",
    "\n",
    "    def call(self, inputs):\n",
    "        return self.dense(inputs)\n",
    "\n",
    "inputs = keras.Input(shape=(3,))\n",
    "features = layers.Dense(64, activation=\"relu\")(inputs)\n",
    "outputs = Classifier(num_classes=10)(features)\n",
    "model = keras.Model(inputs=inputs, outputs=outputs)"
   ]
  },
  {
   "cell_type": "markdown",
   "id": "c380356e",
   "metadata": {},
   "source": [
    "### Functionnal API - Subclassing model"
   ]
  },
  {
   "cell_type": "code",
   "execution_count": 35,
   "id": "e02f1480",
   "metadata": {},
   "outputs": [],
   "source": [
    "inputs = keras.Input(shape=(64,))\n",
    "outputs = layers.Dense(1, activation=\"sigmoid\")(inputs)\n",
    "binary_classifier = keras.Model(inputs=inputs, outputs=outputs)\n",
    "\n",
    "class MyModel(keras.Model):\n",
    "\n",
    "    def __init__(self, num_classes=2):\n",
    "        super().__init__()\n",
    "        self.dense = layers.Dense(64, activation=\"relu\")\n",
    "        self.classifier = binary_classifier\n",
    "\n",
    "    def call(self, inputs):\n",
    "        features = self.dense(inputs)\n",
    "        return self.classifier(features)\n",
    "\n",
    "model = MyModel()"
   ]
  },
  {
   "cell_type": "markdown",
   "id": "2d2d5112",
   "metadata": {},
   "source": [
    "### 베이스라인 모델"
   ]
  },
  {
   "cell_type": "code",
   "execution_count": 40,
   "id": "0ec3131d",
   "metadata": {},
   "outputs": [
    {
     "name": "stdout",
     "output_type": "stream",
     "text": [
      "Epoch 1/3\n",
      "1563/1563 [==============================] - 13s 8ms/step - loss: 0.2930 - accuracy: 0.9130 - val_loss: 0.1451 - val_accuracy: 0.9582\n",
      "Epoch 2/3\n",
      "1563/1563 [==============================] - 12s 8ms/step - loss: 0.1659 - accuracy: 0.9532 - val_loss: 0.1284 - val_accuracy: 0.9650\n",
      "Epoch 3/3\n",
      "1563/1563 [==============================] - 12s 8ms/step - loss: 0.1404 - accuracy: 0.9621 - val_loss: 0.1208 - val_accuracy: 0.9702\n",
      "313/313 [==============================] - 1s 2ms/step - loss: 0.1123 - accuracy: 0.9705\n"
     ]
    }
   ],
   "source": [
    "from tensorflow.keras.datasets import mnist\n",
    "\n",
    "def get_mnist_model():\n",
    "    inputs = keras.Input(shape=(28 * 28,))\n",
    "    features = layers.Dense(512, activation=\"relu\")(inputs)\n",
    "    features = layers.Dropout(0.5)(features)\n",
    "    outputs = layers.Dense(10, activation=\"softmax\")(features)\n",
    "    model = keras.Model(inputs, outputs)\n",
    "    return model\n",
    "\n",
    "(images, labels), (test_images, test_labels) = mnist.load_data()\n",
    "images = images.reshape((60000, 28 * 28)).astype(\"float32\") / 255\n",
    "test_images = test_images.reshape((10000, 28 * 28)).astype(\"float32\") / 255\n",
    "train_images, val_images = images[10000:], images[:10000]\n",
    "train_labels, val_labels = labels[10000:], labels[:10000]\n",
    "\n",
    "model = get_mnist_model()\n",
    "model.compile(optimizer=keras.optimizers.Adam(learning_rate=0.00001),\n",
    "              loss=\"sparse_categorical_crossentropy\",\n",
    "              metrics=[\"accuracy\"])\n",
    "tensorboard = keras.callbacks.TensorBoard(\n",
    "    log_dir=\"./tb_logs\",\n",
    ")\n",
    "\n",
    "model.fit(train_images, train_labels,\n",
    "          epochs=10,\n",
    "          validation_data=(val_images, val_labels),\n",
    "          callbacks=[tensorboard])\n",
    "test_metrics = model.evaluate(test_images, test_labels)\n",
    "predictions = model.predict(test_images)"
   ]
  },
  {
   "cell_type": "code",
   "execution_count": 41,
   "id": "07d757a0",
   "metadata": {},
   "outputs": [
    {
     "name": "stdout",
     "output_type": "stream",
     "text": [
      "The tensorboard extension is already loaded. To reload it, use:\n",
      "  %reload_ext tensorboard\n"
     ]
    },
    {
     "data": {
      "text/plain": [
       "Reusing TensorBoard on port 6006 (pid 213), started 1:46:03 ago. (Use '!kill 213' to kill it.)"
      ]
     },
     "metadata": {},
     "output_type": "display_data"
    },
    {
     "data": {
      "text/html": [
       "\n",
       "      <iframe id=\"tensorboard-frame-ecbd3be43179332e\" width=\"100%\" height=\"800\" frameborder=\"0\">\n",
       "      </iframe>\n",
       "      <script>\n",
       "        (function() {\n",
       "          const frame = document.getElementById(\"tensorboard-frame-ecbd3be43179332e\");\n",
       "          const url = new URL(\"/\", window.location);\n",
       "          const port = 6006;\n",
       "          if (port) {\n",
       "            url.port = port;\n",
       "          }\n",
       "          frame.src = url;\n",
       "        })();\n",
       "      </script>\n",
       "    "
      ],
      "text/plain": [
       "<IPython.core.display.HTML object>"
      ]
     },
     "metadata": {},
     "output_type": "display_data"
    }
   ],
   "source": [
    "%load_ext tensorboard\n",
    "%tensorboard --logdir ./tb_logs"
   ]
  },
  {
   "cell_type": "markdown",
   "id": "19f96ce2",
   "metadata": {},
   "source": [
    "### 사용자 정의 훈련 스탭을 사용하는 모델"
   ]
  },
  {
   "cell_type": "code",
   "execution_count": 45,
   "id": "e8e269d2",
   "metadata": {},
   "outputs": [],
   "source": [
    "import tensorflow as tf\n",
    "\n",
    "loss_fn = keras.losses.SparseCategoricalCrossentropy()\n",
    "loss_tracker = keras.metrics.Mean(name=\"loss\")\n",
    "\n",
    "class CustomModel(keras.Model):\n",
    "    def train_step(self, data):\n",
    "        inputs, targets = data\n",
    "        with tf.GradientTape() as tape:\n",
    "            predictions = self(inputs, training=True)\n",
    "            loss = loss_fn(targets, predictions)\n",
    "        gradients = tape.gradient(loss, self.trainable_weights)\n",
    "        self.optimizer.apply_gradients(zip(gradients, self.trainable_weights))\n",
    "\n",
    "        loss_tracker.update_state(loss)\n",
    "        return {\"loss\": loss_tracker.result()}\n",
    "\n",
    "    @property\n",
    "    def metrics(self):\n",
    "        return [loss_tracker]"
   ]
  },
  {
   "cell_type": "code",
   "execution_count": 46,
   "id": "54df245f",
   "metadata": {},
   "outputs": [
    {
     "name": "stdout",
     "output_type": "stream",
     "text": [
      "Epoch 1/3\n",
      "1563/1563 [==============================] - 11s 7ms/step - loss: 0.2934\n",
      "Epoch 2/3\n",
      "1563/1563 [==============================] - 11s 7ms/step - loss: 0.1661\n",
      "Epoch 3/3\n",
      "1563/1563 [==============================] - 11s 7ms/step - loss: 0.1391\n"
     ]
    },
    {
     "data": {
      "text/plain": [
       "<keras.callbacks.History at 0x78a1ccdbf4f0>"
      ]
     },
     "execution_count": 46,
     "metadata": {},
     "output_type": "execute_result"
    }
   ],
   "source": [
    "inputs = keras.Input(shape=(28 * 28,))\n",
    "features = layers.Dense(512, activation=\"relu\")(inputs)\n",
    "features = layers.Dropout(0.5)(features)\n",
    "outputs = layers.Dense(10, activation=\"softmax\")(features)\n",
    "model = CustomModel(inputs, outputs)\n",
    "\n",
    "model.compile(optimizer=keras.optimizers.RMSprop())\n",
    "model.fit(train_images, train_labels, epochs=3)"
   ]
  },
  {
   "cell_type": "code",
   "execution_count": 47,
   "id": "2ff954f6",
   "metadata": {},
   "outputs": [],
   "source": [
    "class CustomModel(keras.Model):\n",
    "    def train_step(self, data):\n",
    "        inputs, targets = data\n",
    "        with tf.GradientTape() as tape:\n",
    "            predictions = self(inputs, training=True)\n",
    "            loss = self.compiled_loss(targets, predictions)\n",
    "        gradients = tape.gradient(loss, self.trainable_weights)\n",
    "        self.optimizer.apply_gradients(zip(gradients, self.trainable_weights))\n",
    "        self.compiled_metrics.update_state(targets, predictions)\n",
    "        return {m.name: m.result() for m in self.metrics}"
   ]
  },
  {
   "cell_type": "code",
   "execution_count": 48,
   "id": "6fa4134d",
   "metadata": {},
   "outputs": [
    {
     "name": "stdout",
     "output_type": "stream",
     "text": [
      "Epoch 1/3\n",
      "1563/1563 [==============================] - 12s 7ms/step - loss: 0.2935 - sparse_categorical_accuracy: 0.9123\n",
      "Epoch 2/3\n",
      "1563/1563 [==============================] - 11s 7ms/step - loss: 0.1648 - sparse_categorical_accuracy: 0.9537\n",
      "Epoch 3/3\n",
      "1563/1563 [==============================] - 11s 7ms/step - loss: 0.1389 - sparse_categorical_accuracy: 0.9621\n"
     ]
    },
    {
     "data": {
      "text/plain": [
       "<keras.callbacks.History at 0x78a1cccab490>"
      ]
     },
     "execution_count": 48,
     "metadata": {},
     "output_type": "execute_result"
    }
   ],
   "source": [
    "inputs = keras.Input(shape=(28 * 28,))\n",
    "features = layers.Dense(512, activation=\"relu\")(inputs)\n",
    "features = layers.Dropout(0.5)(features)\n",
    "outputs = layers.Dense(10, activation=\"softmax\")(features)\n",
    "model = CustomModel(inputs, outputs)\n",
    "\n",
    "model.compile(optimizer=keras.optimizers.RMSprop(),\n",
    "              loss=keras.losses.SparseCategoricalCrossentropy(),\n",
    "              metrics=[keras.metrics.SparseCategoricalAccuracy()])\n",
    "model.fit(train_images, train_labels, epochs=3)"
   ]
  }
 ],
 "metadata": {
  "kernelspec": {
   "display_name": "Python 3 (ipykernel)",
   "language": "python",
   "name": "python3"
  },
  "language_info": {
   "codemirror_mode": {
    "name": "ipython",
    "version": 3
   },
   "file_extension": ".py",
   "mimetype": "text/x-python",
   "name": "python",
   "nbconvert_exporter": "python",
   "pygments_lexer": "ipython3",
   "version": "3.9.7"
  }
 },
 "nbformat": 4,
 "nbformat_minor": 5
}
